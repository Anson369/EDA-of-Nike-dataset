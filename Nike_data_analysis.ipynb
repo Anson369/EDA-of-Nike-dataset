{
 "cells": [
  {
   "cell_type": "code",
   "execution_count": 158,
   "metadata": {},
   "outputs": [
    {
     "data": {
      "text/html": [
       "<div>\n",
       "<style scoped>\n",
       "    .dataframe tbody tr th:only-of-type {\n",
       "        vertical-align: middle;\n",
       "    }\n",
       "\n",
       "    .dataframe tbody tr th {\n",
       "        vertical-align: top;\n",
       "    }\n",
       "\n",
       "    .dataframe thead th {\n",
       "        text-align: right;\n",
       "    }\n",
       "</style>\n",
       "<table border=\"1\" class=\"dataframe\">\n",
       "  <thead>\n",
       "    <tr style=\"text-align: right;\">\n",
       "      <th></th>\n",
       "      <th>Invoice Date</th>\n",
       "      <th>Product</th>\n",
       "      <th>Region</th>\n",
       "      <th>Retailer</th>\n",
       "      <th>Sales Method</th>\n",
       "      <th>State</th>\n",
       "      <th>Price per Unit</th>\n",
       "      <th>Total Sales</th>\n",
       "      <th>Units Sold</th>\n",
       "    </tr>\n",
       "  </thead>\n",
       "  <tbody>\n",
       "    <tr>\n",
       "      <th>0</th>\n",
       "      <td>01-01-2020</td>\n",
       "      <td>Men's Street Footwear</td>\n",
       "      <td>Northeast</td>\n",
       "      <td>Foot Locker</td>\n",
       "      <td>In-store</td>\n",
       "      <td>New York</td>\n",
       "      <td>50</td>\n",
       "      <td>6000</td>\n",
       "      <td>120</td>\n",
       "    </tr>\n",
       "    <tr>\n",
       "      <th>1</th>\n",
       "      <td>02-01-2020</td>\n",
       "      <td>Men's Athletic Footwear</td>\n",
       "      <td>Northeast</td>\n",
       "      <td>Foot Locker</td>\n",
       "      <td>In-store</td>\n",
       "      <td>New York</td>\n",
       "      <td>50</td>\n",
       "      <td>5000</td>\n",
       "      <td>100</td>\n",
       "    </tr>\n",
       "    <tr>\n",
       "      <th>2</th>\n",
       "      <td>03-01-2020</td>\n",
       "      <td>Women's Street Footwear</td>\n",
       "      <td>Northeast</td>\n",
       "      <td>Foot Locker</td>\n",
       "      <td>In-store</td>\n",
       "      <td>New York</td>\n",
       "      <td>40</td>\n",
       "      <td>4000</td>\n",
       "      <td>100</td>\n",
       "    </tr>\n",
       "    <tr>\n",
       "      <th>3</th>\n",
       "      <td>04-01-2020</td>\n",
       "      <td>Women's Athletic Footwear</td>\n",
       "      <td>Northeast</td>\n",
       "      <td>Foot Locker</td>\n",
       "      <td>In-store</td>\n",
       "      <td>New York</td>\n",
       "      <td>45</td>\n",
       "      <td>3825</td>\n",
       "      <td>85</td>\n",
       "    </tr>\n",
       "    <tr>\n",
       "      <th>4</th>\n",
       "      <td>05-01-2020</td>\n",
       "      <td>Men's Apparel</td>\n",
       "      <td>Northeast</td>\n",
       "      <td>Foot Locker</td>\n",
       "      <td>In-store</td>\n",
       "      <td>New York</td>\n",
       "      <td>60</td>\n",
       "      <td>5400</td>\n",
       "      <td>90</td>\n",
       "    </tr>\n",
       "    <tr>\n",
       "      <th>...</th>\n",
       "      <td>...</td>\n",
       "      <td>...</td>\n",
       "      <td>...</td>\n",
       "      <td>...</td>\n",
       "      <td>...</td>\n",
       "      <td>...</td>\n",
       "      <td>...</td>\n",
       "      <td>...</td>\n",
       "      <td>...</td>\n",
       "    </tr>\n",
       "    <tr>\n",
       "      <th>9355</th>\n",
       "      <td>06-07-2021</td>\n",
       "      <td>Women's Athletic Footwear</td>\n",
       "      <td>West</td>\n",
       "      <td>West Gear</td>\n",
       "      <td>Outlet</td>\n",
       "      <td>Idaho</td>\n",
       "      <td>38</td>\n",
       "      <td>60</td>\n",
       "      <td>16</td>\n",
       "    </tr>\n",
       "    <tr>\n",
       "      <th>9356</th>\n",
       "      <td>05-04-2021</td>\n",
       "      <td>Women's Street Footwear</td>\n",
       "      <td>West</td>\n",
       "      <td>West Gear</td>\n",
       "      <td>Outlet</td>\n",
       "      <td>Idaho</td>\n",
       "      <td>19</td>\n",
       "      <td>31</td>\n",
       "      <td>16</td>\n",
       "    </tr>\n",
       "    <tr>\n",
       "      <th>9357</th>\n",
       "      <td>05-05-2021</td>\n",
       "      <td>Women's Street Footwear</td>\n",
       "      <td>West</td>\n",
       "      <td>West Gear</td>\n",
       "      <td>Outlet</td>\n",
       "      <td>Idaho</td>\n",
       "      <td>18</td>\n",
       "      <td>33</td>\n",
       "      <td>18</td>\n",
       "    </tr>\n",
       "    <tr>\n",
       "      <th>9358</th>\n",
       "      <td>04-06-2021</td>\n",
       "      <td>Women's Street Footwear</td>\n",
       "      <td>West</td>\n",
       "      <td>West Gear</td>\n",
       "      <td>Outlet</td>\n",
       "      <td>Idaho</td>\n",
       "      <td>34</td>\n",
       "      <td>63</td>\n",
       "      <td>19</td>\n",
       "    </tr>\n",
       "    <tr>\n",
       "      <th>9359</th>\n",
       "      <td>06-07-2021</td>\n",
       "      <td>Women's Street Footwear</td>\n",
       "      <td>West</td>\n",
       "      <td>West Gear</td>\n",
       "      <td>Outlet</td>\n",
       "      <td>Idaho</td>\n",
       "      <td>34</td>\n",
       "      <td>95</td>\n",
       "      <td>28</td>\n",
       "    </tr>\n",
       "  </tbody>\n",
       "</table>\n",
       "<p>9360 rows × 9 columns</p>\n",
       "</div>"
      ],
      "text/plain": [
       "     Invoice Date                    Product     Region     Retailer  \\\n",
       "0      01-01-2020      Men's Street Footwear  Northeast  Foot Locker   \n",
       "1      02-01-2020    Men's Athletic Footwear  Northeast  Foot Locker   \n",
       "2      03-01-2020    Women's Street Footwear  Northeast  Foot Locker   \n",
       "3      04-01-2020  Women's Athletic Footwear  Northeast  Foot Locker   \n",
       "4      05-01-2020              Men's Apparel  Northeast  Foot Locker   \n",
       "...           ...                        ...        ...          ...   \n",
       "9355   06-07-2021  Women's Athletic Footwear       West    West Gear   \n",
       "9356   05-04-2021    Women's Street Footwear       West    West Gear   \n",
       "9357   05-05-2021    Women's Street Footwear       West    West Gear   \n",
       "9358   04-06-2021    Women's Street Footwear       West    West Gear   \n",
       "9359   06-07-2021    Women's Street Footwear       West    West Gear   \n",
       "\n",
       "     Sales Method     State  Price per Unit  Total Sales  Units Sold  \n",
       "0        In-store  New York              50         6000         120  \n",
       "1        In-store  New York              50         5000         100  \n",
       "2        In-store  New York              40         4000         100  \n",
       "3        In-store  New York              45         3825          85  \n",
       "4        In-store  New York              60         5400          90  \n",
       "...           ...       ...             ...          ...         ...  \n",
       "9355       Outlet     Idaho              38           60          16  \n",
       "9356       Outlet     Idaho              19           31          16  \n",
       "9357       Outlet     Idaho              18           33          18  \n",
       "9358       Outlet     Idaho              34           63          19  \n",
       "9359       Outlet     Idaho              34           95          28  \n",
       "\n",
       "[9360 rows x 9 columns]"
      ]
     },
     "execution_count": 158,
     "metadata": {},
     "output_type": "execute_result"
    }
   ],
   "source": [
    "import pandas as pd\n",
    "df=pd.read_csv('Nike Dataset.csv')\n",
    "df"
   ]
  },
  {
   "cell_type": "code",
   "execution_count": 159,
   "metadata": {},
   "outputs": [
    {
     "data": {
      "text/plain": [
       "Invoice Date      object\n",
       "Product           object\n",
       "Region            object\n",
       "Retailer          object\n",
       "Sales Method      object\n",
       "State             object\n",
       "Price per Unit     int64\n",
       "Total Sales        int64\n",
       "Units Sold         int64\n",
       "dtype: object"
      ]
     },
     "execution_count": 159,
     "metadata": {},
     "output_type": "execute_result"
    }
   ],
   "source": [
    "df.dtypes"
   ]
  },
  {
   "cell_type": "code",
   "execution_count": 160,
   "metadata": {},
   "outputs": [
    {
     "data": {
      "text/plain": [
       "Index(['Invoice Date', 'Product', 'Region', 'Retailer', 'Sales Method',\n",
       "       'State', 'Price per Unit', 'Total Sales', 'Units Sold'],\n",
       "      dtype='object')"
      ]
     },
     "execution_count": 160,
     "metadata": {},
     "output_type": "execute_result"
    }
   ],
   "source": [
    "df.columns"
   ]
  },
  {
   "cell_type": "code",
   "execution_count": 161,
   "metadata": {},
   "outputs": [
    {
     "data": {
      "text/plain": [
       "np.int64(0)"
      ]
     },
     "execution_count": 161,
     "metadata": {},
     "output_type": "execute_result"
    }
   ],
   "source": [
    "df.duplicated().sum()"
   ]
  },
  {
   "cell_type": "code",
   "execution_count": 162,
   "metadata": {},
   "outputs": [
    {
     "data": {
      "text/plain": [
       "Invoice Date      0\n",
       "Product           0\n",
       "Region            0\n",
       "Retailer          0\n",
       "Sales Method      0\n",
       "State             0\n",
       "Price per Unit    0\n",
       "Total Sales       0\n",
       "Units Sold        0\n",
       "dtype: int64"
      ]
     },
     "execution_count": 162,
     "metadata": {},
     "output_type": "execute_result"
    }
   ],
   "source": [
    "df.isna().sum()"
   ]
  },
  {
   "cell_type": "code",
   "execution_count": 163,
   "metadata": {},
   "outputs": [
    {
     "data": {
      "text/html": [
       "<div>\n",
       "<style scoped>\n",
       "    .dataframe tbody tr th:only-of-type {\n",
       "        vertical-align: middle;\n",
       "    }\n",
       "\n",
       "    .dataframe tbody tr th {\n",
       "        vertical-align: top;\n",
       "    }\n",
       "\n",
       "    .dataframe thead th {\n",
       "        text-align: right;\n",
       "    }\n",
       "</style>\n",
       "<table border=\"1\" class=\"dataframe\">\n",
       "  <thead>\n",
       "    <tr style=\"text-align: right;\">\n",
       "      <th></th>\n",
       "      <th>Price per Unit</th>\n",
       "      <th>Total Sales</th>\n",
       "      <th>Units Sold</th>\n",
       "    </tr>\n",
       "  </thead>\n",
       "  <tbody>\n",
       "    <tr>\n",
       "      <th>count</th>\n",
       "      <td>9360.000000</td>\n",
       "      <td>9360.00000</td>\n",
       "      <td>9360.000000</td>\n",
       "    </tr>\n",
       "    <tr>\n",
       "      <th>mean</th>\n",
       "      <td>44.739209</td>\n",
       "      <td>921.93109</td>\n",
       "      <td>25.852991</td>\n",
       "    </tr>\n",
       "    <tr>\n",
       "      <th>std</th>\n",
       "      <td>14.506338</td>\n",
       "      <td>1413.84279</td>\n",
       "      <td>21.591922</td>\n",
       "    </tr>\n",
       "    <tr>\n",
       "      <th>min</th>\n",
       "      <td>7.000000</td>\n",
       "      <td>0.00000</td>\n",
       "      <td>0.000000</td>\n",
       "    </tr>\n",
       "    <tr>\n",
       "      <th>25%</th>\n",
       "      <td>35.000000</td>\n",
       "      <td>42.00000</td>\n",
       "      <td>11.000000</td>\n",
       "    </tr>\n",
       "    <tr>\n",
       "      <th>50%</th>\n",
       "      <td>45.000000</td>\n",
       "      <td>95.00000</td>\n",
       "      <td>18.000000</td>\n",
       "    </tr>\n",
       "    <tr>\n",
       "      <th>75%</th>\n",
       "      <td>55.000000</td>\n",
       "      <td>1463.00000</td>\n",
       "      <td>35.000000</td>\n",
       "    </tr>\n",
       "    <tr>\n",
       "      <th>max</th>\n",
       "      <td>110.000000</td>\n",
       "      <td>8250.00000</td>\n",
       "      <td>128.000000</td>\n",
       "    </tr>\n",
       "  </tbody>\n",
       "</table>\n",
       "</div>"
      ],
      "text/plain": [
       "       Price per Unit  Total Sales   Units Sold\n",
       "count     9360.000000   9360.00000  9360.000000\n",
       "mean        44.739209    921.93109    25.852991\n",
       "std         14.506338   1413.84279    21.591922\n",
       "min          7.000000      0.00000     0.000000\n",
       "25%         35.000000     42.00000    11.000000\n",
       "50%         45.000000     95.00000    18.000000\n",
       "75%         55.000000   1463.00000    35.000000\n",
       "max        110.000000   8250.00000   128.000000"
      ]
     },
     "execution_count": 163,
     "metadata": {},
     "output_type": "execute_result"
    }
   ],
   "source": [
    "df.describe()"
   ]
  },
  {
   "cell_type": "markdown",
   "metadata": {},
   "source": [
    "IQR method"
   ]
  },
  {
   "cell_type": "code",
   "execution_count": 164,
   "metadata": {},
   "outputs": [
    {
     "data": {
      "text/plain": [
       "{'Price per Unit': {'Q1': np.float64(35.0),\n",
       "  'Q3': np.float64(55.0),\n",
       "  'IQR': np.float64(20.0),\n",
       "  'Min range': np.float64(5.0),\n",
       "  'Max range': np.float64(85.0)},\n",
       " 'Total Sales': {'Q1': np.float64(42.0),\n",
       "  'Q3': np.float64(1463.0),\n",
       "  'IQR': np.float64(1421.0),\n",
       "  'Min range': np.float64(-2089.5),\n",
       "  'Max range': np.float64(3594.5)},\n",
       " 'Units Sold': {'Q1': np.float64(11.0),\n",
       "  'Q3': np.float64(35.0),\n",
       "  'IQR': np.float64(24.0),\n",
       "  'Min range': np.float64(-25.0),\n",
       "  'Max range': np.float64(71.0)}}"
      ]
     },
     "execution_count": 164,
     "metadata": {},
     "output_type": "execute_result"
    }
   ],
   "source": [
    "import datetime as dt\n",
    "dict1={}\n",
    "for i in df:\n",
    "  if df[i].dtype in ['int32','int64','float64']:\n",
    "    dict1[i]={}\n",
    "    dict1[i]['Q1']=df[i].quantile(0.25)\n",
    "    dict1[i]['Q3']=df[i].quantile(0.75)\n",
    "    dict1[i]['IQR']=dict1[i]['Q3']-dict1[i]['Q1']\n",
    "    dict1[i]['Min range']=dict1[i]['Q1']-1.5*dict1[i]['IQR']\n",
    "    dict1[i]['Max range']=dict1[i]['Q3']+1.5*dict1[i]['IQR']\n",
    "dict1"
   ]
  },
  {
   "cell_type": "markdown",
   "metadata": {},
   "source": [
    "FEATURE ENGINEERING"
   ]
  },
  {
   "cell_type": "markdown",
   "metadata": {},
   "source": [
    "Created a new column 'gender' and extracted from product name"
   ]
  },
  {
   "cell_type": "code",
   "execution_count": 165,
   "metadata": {},
   "outputs": [],
   "source": [
    "df['Gender']=df['Product'].apply(lambda x:x.split(\"'\")[0])\n"
   ]
  },
  {
   "cell_type": "code",
   "execution_count": 166,
   "metadata": {},
   "outputs": [],
   "source": [
    "col=[0,1,-1,2,3,4,5,6,7,8]\n",
    "df=df.iloc[:,col]"
   ]
  },
  {
   "cell_type": "markdown",
   "metadata": {},
   "source": [
    "Created a new column 'year' and extracted it from Invoice date using split"
   ]
  },
  {
   "cell_type": "code",
   "execution_count": 167,
   "metadata": {},
   "outputs": [
    {
     "name": "stderr",
     "output_type": "stream",
     "text": [
      "C:\\Users\\anson\\AppData\\Local\\Temp\\ipykernel_11304\\1904142619.py:1: SettingWithCopyWarning: \n",
      "A value is trying to be set on a copy of a slice from a DataFrame.\n",
      "Try using .loc[row_indexer,col_indexer] = value instead\n",
      "\n",
      "See the caveats in the documentation: https://pandas.pydata.org/pandas-docs/stable/user_guide/indexing.html#returning-a-view-versus-a-copy\n",
      "  df['Year']=df['Invoice Date'].apply(lambda x:x.split('-')[-1])\n"
     ]
    }
   ],
   "source": [
    "df['Year']=df['Invoice Date'].apply(lambda x:x.split('-')[-1])"
   ]
  },
  {
   "cell_type": "code",
   "execution_count": 168,
   "metadata": {},
   "outputs": [],
   "source": [
    "col=[0,-1,1,2,3,4,5,6,7,8]\n",
    "df=df.iloc[:,col]"
   ]
  },
  {
   "cell_type": "code",
   "execution_count": 169,
   "metadata": {},
   "outputs": [],
   "source": [
    "df['Year']=df['Year'].astype(int)"
   ]
  },
  {
   "cell_type": "markdown",
   "metadata": {},
   "source": [
    "Created a new column 'price in indian rupees' and converted it from another column 'price per unit' by converting dollar to indian rupees"
   ]
  },
  {
   "cell_type": "code",
   "execution_count": 170,
   "metadata": {},
   "outputs": [],
   "source": [
    "df['Price in Indian Ruppees']=df['Price per Unit'].apply(lambda x:x*87.34)"
   ]
  },
  {
   "cell_type": "code",
   "execution_count": 171,
   "metadata": {},
   "outputs": [
    {
     "data": {
      "text/plain": [
       "Index(['Invoice Date', 'Year', 'Product', 'Gender', 'Region', 'Retailer',\n",
       "       'Sales Method', 'State', 'Price per Unit', 'Total Sales',\n",
       "       'Price in Indian Ruppees'],\n",
       "      dtype='object')"
      ]
     },
     "execution_count": 171,
     "metadata": {},
     "output_type": "execute_result"
    }
   ],
   "source": [
    "df.columns"
   ]
  },
  {
   "cell_type": "code",
   "execution_count": 172,
   "metadata": {},
   "outputs": [],
   "source": [
    "col=[0,1,2,3,4,5,6,7,-1,8,9]\n",
    "df=df.iloc[:,col]"
   ]
  },
  {
   "cell_type": "code",
   "execution_count": 173,
   "metadata": {},
   "outputs": [],
   "source": [
    "col=[0,1,2,3,4,5,6,7,9,8,10]\n",
    "df=df.iloc[:,col]"
   ]
  },
  {
   "cell_type": "markdown",
   "metadata": {},
   "source": [
    "Created a new column 'Product_category' extracted from product name"
   ]
  },
  {
   "cell_type": "code",
   "execution_count": 174,
   "metadata": {},
   "outputs": [
    {
     "data": {
      "text/plain": [
       "array(['Footwear', 'Apparel'], dtype=object)"
      ]
     },
     "execution_count": 174,
     "metadata": {},
     "output_type": "execute_result"
    }
   ],
   "source": [
    "df['Product_category']=df['Product'].apply(lambda x:x.split()[-1])\n",
    "df['Product_category'].unique()"
   ]
  },
  {
   "cell_type": "code",
   "execution_count": 175,
   "metadata": {},
   "outputs": [],
   "source": [
    "col=[0,1,2,-1,3,4,5,6,7,8,9,10]\n",
    "df=df.iloc[:,col]"
   ]
  },
  {
   "cell_type": "markdown",
   "metadata": {},
   "source": [
    "Converted the datatype of the column 'Invoice Date' to datetime"
   ]
  },
  {
   "cell_type": "code",
   "execution_count": 176,
   "metadata": {},
   "outputs": [],
   "source": [
    "df['Invoice Date']=pd.to_datetime(df['Invoice Date'],format='%d-%m-%Y')"
   ]
  },
  {
   "cell_type": "code",
   "execution_count": 198,
   "metadata": {},
   "outputs": [],
   "source": [
    "df['Year']=df['Invoice Date'].dt.year # to extract year\n",
    "df['Month Name']=df['Invoice Date'].dt.month_name() # to extract month name\n",
    "df['Day Name']=df['Invoice Date'].dt.day_name() # to extract day name\n",
    "df['Month']=df['Invoice Date'].dt.month\n"
   ]
  },
  {
   "cell_type": "code",
   "execution_count": 178,
   "metadata": {},
   "outputs": [],
   "source": [
    "col=[0,-1,-2,1,2,3,4,5,6,7,8,9,10,11]\n",
    "df=df.iloc[:,col]"
   ]
  },
  {
   "cell_type": "code",
   "execution_count": 179,
   "metadata": {},
   "outputs": [],
   "source": [
    "df['Month']=df['Invoice Date'].dt.month"
   ]
  },
  {
   "cell_type": "code",
   "execution_count": 202,
   "metadata": {},
   "outputs": [
    {
     "data": {
      "text/plain": [
       "Index(['Invoice Date', 'Month', 'Day Name', 'Year', 'Product',\n",
       "       'Product_category', 'Gender', 'Region', 'Retailer', 'Sales Method',\n",
       "       'State', 'Price per Unit', 'Price in Indian Ruppees', 'Total Sales',\n",
       "       'Total Amount', 'Price_category', 'Month Name'],\n",
       "      dtype='object')"
      ]
     },
     "execution_count": 202,
     "metadata": {},
     "output_type": "execute_result"
    }
   ],
   "source": [
    "df.columns"
   ]
  },
  {
   "cell_type": "markdown",
   "metadata": {},
   "source": [
    "created a new column 'Price category' from the column 'Price in Indian Rupees' "
   ]
  },
  {
   "cell_type": "code",
   "execution_count": null,
   "metadata": {},
   "outputs": [],
   "source": [
    "df['Price_category']=df['Price in Indian Ruppees'].apply(lambda x:'Budget-friendly' if x<1000 \n",
    "                                                        else 'Affordable' if 1000<=x<3000 \n",
    "                                                        else 'Mid-range' if 3000<=x<7000 \n",
    "                                                        else 'Premium' if 7000<=x<15000 \n",
    "                                                        else 'Luxury')"
   ]
  },
  {
   "cell_type": "markdown",
   "metadata": {},
   "source": [
    "Created a new column 'Total Amount' by multiplying the total sale and price per unit"
   ]
  },
  {
   "cell_type": "code",
   "execution_count": 182,
   "metadata": {},
   "outputs": [],
   "source": [
    "df['Total Amount']=df['Total Sales']*df['Price per Unit']\n",
    "\n",
    "\n",
    "df.rename(columns={'Total':'Total Amount'},inplace=True)"
   ]
  },
  {
   "cell_type": "markdown",
   "metadata": {},
   "source": [
    "Removing the rows in the total sale is zero"
   ]
  },
  {
   "cell_type": "code",
   "execution_count": 183,
   "metadata": {},
   "outputs": [],
   "source": [
    "df.drop(index=df[df['Total Sales']==0].index,inplace=True)"
   ]
  },
  {
   "cell_type": "code",
   "execution_count": 184,
   "metadata": {},
   "outputs": [
    {
     "data": {
      "text/plain": [
       "Text(0, 0.5, 'Number of sales')"
      ]
     },
     "execution_count": 184,
     "metadata": {},
     "output_type": "execute_result"
    },
    {
     "data": {
      "image/png": "[encoded data removed]",
      "text/plain": [
       "<Figure size 640x480 with 1 Axes>"
      ]
     },
     "metadata": {},
     "output_type": "display_data"
    }
   ],
   "source": [
    "import matplotlib.pyplot as plt\n",
    "x=df['Day Name'].value_counts().index\n",
    "y=df['Day Name'].value_counts()\n",
    "plt.bar(x,y)\n",
    "plt.xticks(rotation=90)\n",
    "plt.xlabel('Day Name')\n",
    "plt.ylabel('Number of sales')"
   ]
  },
  {
   "cell_type": "code",
   "execution_count": 185,
   "metadata": {},
   "outputs": [
    {
     "data": {
      "text/plain": [
       "Gender\n",
       "Men      4680\n",
       "Women    4676\n",
       "Name: count, dtype: int64"
      ]
     },
     "execution_count": 185,
     "metadata": {},
     "output_type": "execute_result"
    }
   ],
   "source": [
    "df['Gender'].value_counts()"
   ]
  },
  {
   "cell_type": "markdown",
   "metadata": {},
   "source": [
    "Average price of same product in different state"
   ]
  },
  {
   "cell_type": "code",
   "execution_count": 186,
   "metadata": {},
   "outputs": [
    {
     "data": {
      "text/plain": [
       "array([\"Men's Street Footwear\", \"Men's Athletic Footwear\",\n",
       "       \"Women's Street Footwear\", \"Women's Athletic Footwear\",\n",
       "       \"Men's Apparel\", \"Women's Apparel\"], dtype=object)"
      ]
     },
     "execution_count": 186,
     "metadata": {},
     "output_type": "execute_result"
    }
   ],
   "source": [
    "df['Product'].unique()"
   ]
  },
  {
   "cell_type": "code",
   "execution_count": 187,
   "metadata": {},
   "outputs": [
    {
     "data": {
      "text/html": [
       "<div>\n",
       "<style scoped>\n",
       "    .dataframe tbody tr th:only-of-type {\n",
       "        vertical-align: middle;\n",
       "    }\n",
       "\n",
       "    .dataframe tbody tr th {\n",
       "        vertical-align: top;\n",
       "    }\n",
       "\n",
       "    .dataframe thead th {\n",
       "        text-align: right;\n",
       "    }\n",
       "</style>\n",
       "<table border=\"1\" class=\"dataframe\">\n",
       "  <thead>\n",
       "    <tr style=\"text-align: right;\">\n",
       "      <th></th>\n",
       "      <th></th>\n",
       "      <th>Price per Unit</th>\n",
       "    </tr>\n",
       "    <tr>\n",
       "      <th>Product</th>\n",
       "      <th>State</th>\n",
       "      <th></th>\n",
       "    </tr>\n",
       "  </thead>\n",
       "  <tbody>\n",
       "    <tr>\n",
       "      <th rowspan=\"48\" valign=\"top\">Men's Street Footwear</th>\n",
       "      <th>Washington</th>\n",
       "      <td>62.583333</td>\n",
       "    </tr>\n",
       "    <tr>\n",
       "      <th>New Hampshire</th>\n",
       "      <td>55.916667</td>\n",
       "    </tr>\n",
       "    <tr>\n",
       "      <th>Florida</th>\n",
       "      <td>54.916667</td>\n",
       "    </tr>\n",
       "    <tr>\n",
       "      <th>Colorado</th>\n",
       "      <td>53.208333</td>\n",
       "    </tr>\n",
       "    <tr>\n",
       "      <th>Pennsylvania</th>\n",
       "      <td>52.250000</td>\n",
       "    </tr>\n",
       "    <tr>\n",
       "      <th>Vermont</th>\n",
       "      <td>51.500000</td>\n",
       "    </tr>\n",
       "    <tr>\n",
       "      <th>Maine</th>\n",
       "      <td>50.250000</td>\n",
       "    </tr>\n",
       "    <tr>\n",
       "      <th>New York</th>\n",
       "      <td>50.083333</td>\n",
       "    </tr>\n",
       "    <tr>\n",
       "      <th>Delaware</th>\n",
       "      <td>49.416667</td>\n",
       "    </tr>\n",
       "    <tr>\n",
       "      <th>South Carolina</th>\n",
       "      <td>49.375000</td>\n",
       "    </tr>\n",
       "    <tr>\n",
       "      <th>Illinois</th>\n",
       "      <td>49.125000</td>\n",
       "    </tr>\n",
       "    <tr>\n",
       "      <th>Nevada</th>\n",
       "      <td>48.944444</td>\n",
       "    </tr>\n",
       "    <tr>\n",
       "      <th>Oregon</th>\n",
       "      <td>48.083333</td>\n",
       "    </tr>\n",
       "    <tr>\n",
       "      <th>Virginia</th>\n",
       "      <td>47.666667</td>\n",
       "    </tr>\n",
       "    <tr>\n",
       "      <th>Massachusetts</th>\n",
       "      <td>47.083333</td>\n",
       "    </tr>\n",
       "    <tr>\n",
       "      <th>Maryland</th>\n",
       "      <td>46.833333</td>\n",
       "    </tr>\n",
       "    <tr>\n",
       "      <th>New Jersey</th>\n",
       "      <td>46.583333</td>\n",
       "    </tr>\n",
       "    <tr>\n",
       "      <th>South Dakota</th>\n",
       "      <td>46.500000</td>\n",
       "    </tr>\n",
       "    <tr>\n",
       "      <th>Ohio</th>\n",
       "      <td>46.041667</td>\n",
       "    </tr>\n",
       "    <tr>\n",
       "      <th>Louisiana</th>\n",
       "      <td>46.027778</td>\n",
       "    </tr>\n",
       "    <tr>\n",
       "      <th>North Carolina</th>\n",
       "      <td>45.833333</td>\n",
       "    </tr>\n",
       "    <tr>\n",
       "      <th>Connecticut</th>\n",
       "      <td>45.694444</td>\n",
       "    </tr>\n",
       "    <tr>\n",
       "      <th>Michigan</th>\n",
       "      <td>45.375000</td>\n",
       "    </tr>\n",
       "    <tr>\n",
       "      <th>Kentucky</th>\n",
       "      <td>45.208333</td>\n",
       "    </tr>\n",
       "    <tr>\n",
       "      <th>New Mexico</th>\n",
       "      <td>45.083333</td>\n",
       "    </tr>\n",
       "    <tr>\n",
       "      <th>Wyoming</th>\n",
       "      <td>44.875000</td>\n",
       "    </tr>\n",
       "    <tr>\n",
       "      <th>California</th>\n",
       "      <td>44.250000</td>\n",
       "    </tr>\n",
       "    <tr>\n",
       "      <th>Minnesota</th>\n",
       "      <td>43.625000</td>\n",
       "    </tr>\n",
       "    <tr>\n",
       "      <th>West Virginia</th>\n",
       "      <td>43.166667</td>\n",
       "    </tr>\n",
       "    <tr>\n",
       "      <th>Rhode Island</th>\n",
       "      <td>42.583333</td>\n",
       "    </tr>\n",
       "    <tr>\n",
       "      <th>Georgia</th>\n",
       "      <td>42.444444</td>\n",
       "    </tr>\n",
       "    <tr>\n",
       "      <th>North Dakota</th>\n",
       "      <td>41.916667</td>\n",
       "    </tr>\n",
       "    <tr>\n",
       "      <th>Arizona</th>\n",
       "      <td>40.944444</td>\n",
       "    </tr>\n",
       "    <tr>\n",
       "      <th>Indiana</th>\n",
       "      <td>40.916667</td>\n",
       "    </tr>\n",
       "    <tr>\n",
       "      <th>Kansas</th>\n",
       "      <td>39.958333</td>\n",
       "    </tr>\n",
       "    <tr>\n",
       "      <th>Wisconsin</th>\n",
       "      <td>39.541667</td>\n",
       "    </tr>\n",
       "    <tr>\n",
       "      <th>Iowa</th>\n",
       "      <td>38.958333</td>\n",
       "    </tr>\n",
       "    <tr>\n",
       "      <th>Nebraska</th>\n",
       "      <td>38.791667</td>\n",
       "    </tr>\n",
       "    <tr>\n",
       "      <th>Montana</th>\n",
       "      <td>38.375000</td>\n",
       "    </tr>\n",
       "    <tr>\n",
       "      <th>Mississippi</th>\n",
       "      <td>36.361111</td>\n",
       "    </tr>\n",
       "    <tr>\n",
       "      <th>Texas</th>\n",
       "      <td>34.541667</td>\n",
       "    </tr>\n",
       "    <tr>\n",
       "      <th>Missouri</th>\n",
       "      <td>34.416667</td>\n",
       "    </tr>\n",
       "    <tr>\n",
       "      <th>Oklahoma</th>\n",
       "      <td>34.388889</td>\n",
       "    </tr>\n",
       "    <tr>\n",
       "      <th>Arkansas</th>\n",
       "      <td>34.277778</td>\n",
       "    </tr>\n",
       "    <tr>\n",
       "      <th>Idaho</th>\n",
       "      <td>34.111111</td>\n",
       "    </tr>\n",
       "    <tr>\n",
       "      <th>Tennessee</th>\n",
       "      <td>31.111111</td>\n",
       "    </tr>\n",
       "    <tr>\n",
       "      <th>Alabama</th>\n",
       "      <td>30.861111</td>\n",
       "    </tr>\n",
       "    <tr>\n",
       "      <th>Utah</th>\n",
       "      <td>28.777778</td>\n",
       "    </tr>\n",
       "  </tbody>\n",
       "</table>\n",
       "</div>"
      ],
      "text/plain": [
       "                                      Price per Unit\n",
       "Product               State                         \n",
       "Men's Street Footwear Washington           62.583333\n",
       "                      New Hampshire        55.916667\n",
       "                      Florida              54.916667\n",
       "                      Colorado             53.208333\n",
       "                      Pennsylvania         52.250000\n",
       "                      Vermont              51.500000\n",
       "                      Maine                50.250000\n",
       "                      New York             50.083333\n",
       "                      Delaware             49.416667\n",
       "                      South Carolina       49.375000\n",
       "                      Illinois             49.125000\n",
       "                      Nevada               48.944444\n",
       "                      Oregon               48.083333\n",
       "                      Virginia             47.666667\n",
       "                      Massachusetts        47.083333\n",
       "                      Maryland             46.833333\n",
       "                      New Jersey           46.583333\n",
       "                      South Dakota         46.500000\n",
       "                      Ohio                 46.041667\n",
       "                      Louisiana            46.027778\n",
       "                      North Carolina       45.833333\n",
       "                      Connecticut          45.694444\n",
       "                      Michigan             45.375000\n",
       "                      Kentucky             45.208333\n",
       "                      New Mexico           45.083333\n",
       "                      Wyoming              44.875000\n",
       "                      California           44.250000\n",
       "                      Minnesota            43.625000\n",
       "                      West Virginia        43.166667\n",
       "                      Rhode Island         42.583333\n",
       "                      Georgia              42.444444\n",
       "                      North Dakota         41.916667\n",
       "                      Arizona              40.944444\n",
       "                      Indiana              40.916667\n",
       "                      Kansas               39.958333\n",
       "                      Wisconsin            39.541667\n",
       "                      Iowa                 38.958333\n",
       "                      Nebraska             38.791667\n",
       "                      Montana              38.375000\n",
       "                      Mississippi          36.361111\n",
       "                      Texas                34.541667\n",
       "                      Missouri             34.416667\n",
       "                      Oklahoma             34.388889\n",
       "                      Arkansas             34.277778\n",
       "                      Idaho                34.111111\n",
       "                      Tennessee            31.111111\n",
       "                      Alabama              30.861111\n",
       "                      Utah                 28.777778"
      ]
     },
     "execution_count": 187,
     "metadata": {},
     "output_type": "execute_result"
    }
   ],
   "source": [
    "b=df.groupby(['Product','State'])[['Price per Unit']].mean().sort_values(by=['Product','Price per Unit'],ascending=[True,False])\n",
    "b.loc[[\"Men's Street Footwear\"]]"
   ]
  },
  {
   "cell_type": "code",
   "execution_count": 188,
   "metadata": {},
   "outputs": [
    {
     "data": {
      "text/html": [
       "<div>\n",
       "<style scoped>\n",
       "    .dataframe tbody tr th:only-of-type {\n",
       "        vertical-align: middle;\n",
       "    }\n",
       "\n",
       "    .dataframe tbody tr th {\n",
       "        vertical-align: top;\n",
       "    }\n",
       "\n",
       "    .dataframe thead th {\n",
       "        text-align: right;\n",
       "    }\n",
       "</style>\n",
       "<table border=\"1\" class=\"dataframe\">\n",
       "  <thead>\n",
       "    <tr style=\"text-align: right;\">\n",
       "      <th></th>\n",
       "      <th>Invoice Date</th>\n",
       "      <th>Month</th>\n",
       "      <th>Day Name</th>\n",
       "      <th>Year</th>\n",
       "      <th>Product</th>\n",
       "      <th>Product_category</th>\n",
       "      <th>Gender</th>\n",
       "      <th>Region</th>\n",
       "      <th>Retailer</th>\n",
       "      <th>Sales Method</th>\n",
       "      <th>State</th>\n",
       "      <th>Price per Unit</th>\n",
       "      <th>Price in Indian Ruppees</th>\n",
       "      <th>Total Sales</th>\n",
       "      <th>Price_category</th>\n",
       "      <th>Total Amount</th>\n",
       "    </tr>\n",
       "  </thead>\n",
       "  <tbody>\n",
       "  </tbody>\n",
       "</table>\n",
       "</div>"
      ],
      "text/plain": [
       "Empty DataFrame\n",
       "Columns: [Invoice Date, Month, Day Name, Year, Product, Product_category, Gender, Region, Retailer, Sales Method, State, Price per Unit, Price in Indian Ruppees, Total Sales, Price_category, Total Amount]\n",
       "Index: []"
      ]
     },
     "execution_count": 188,
     "metadata": {},
     "output_type": "execute_result"
    }
   ],
   "source": [
    "df[df['Total Sales']==0]"
   ]
  },
  {
   "cell_type": "code",
   "execution_count": 189,
   "metadata": {},
   "outputs": [],
   "source": [
    "# df['Price in Indian Rupees'].max()"
   ]
  },
  {
   "cell_type": "code",
   "execution_count": 190,
   "metadata": {},
   "outputs": [],
   "source": [
    "col=[0,1,2,3,4,5,6,7,8,9,10,11,12,13,-1,14]\n",
    "df=df.iloc[:,col]"
   ]
  },
  {
   "cell_type": "code",
   "execution_count": 191,
   "metadata": {},
   "outputs": [
    {
     "data": {
      "text/html": [
       "<div>\n",
       "<style scoped>\n",
       "    .dataframe tbody tr th:only-of-type {\n",
       "        vertical-align: middle;\n",
       "    }\n",
       "\n",
       "    .dataframe tbody tr th {\n",
       "        vertical-align: top;\n",
       "    }\n",
       "\n",
       "    .dataframe thead th {\n",
       "        text-align: right;\n",
       "    }\n",
       "</style>\n",
       "<table border=\"1\" class=\"dataframe\">\n",
       "  <thead>\n",
       "    <tr style=\"text-align: right;\">\n",
       "      <th></th>\n",
       "      <th>Invoice Date</th>\n",
       "      <th>Month</th>\n",
       "      <th>Day Name</th>\n",
       "      <th>Year</th>\n",
       "      <th>Product</th>\n",
       "      <th>Product_category</th>\n",
       "      <th>Gender</th>\n",
       "      <th>Region</th>\n",
       "      <th>Retailer</th>\n",
       "      <th>Sales Method</th>\n",
       "      <th>State</th>\n",
       "      <th>Price per Unit</th>\n",
       "      <th>Price in Indian Ruppees</th>\n",
       "      <th>Total Sales</th>\n",
       "      <th>Total Amount</th>\n",
       "      <th>Price_category</th>\n",
       "    </tr>\n",
       "  </thead>\n",
       "  <tbody>\n",
       "    <tr>\n",
       "      <th>0</th>\n",
       "      <td>2020-01-01</td>\n",
       "      <td>1</td>\n",
       "      <td>Wednesday</td>\n",
       "      <td>2020</td>\n",
       "      <td>Men's Street Footwear</td>\n",
       "      <td>Footwear</td>\n",
       "      <td>Men</td>\n",
       "      <td>Northeast</td>\n",
       "      <td>Foot Locker</td>\n",
       "      <td>In-store</td>\n",
       "      <td>New York</td>\n",
       "      <td>50</td>\n",
       "      <td>4367.00</td>\n",
       "      <td>6000</td>\n",
       "      <td>300000</td>\n",
       "      <td>Mid-range</td>\n",
       "    </tr>\n",
       "    <tr>\n",
       "      <th>1</th>\n",
       "      <td>2020-01-02</td>\n",
       "      <td>1</td>\n",
       "      <td>Thursday</td>\n",
       "      <td>2020</td>\n",
       "      <td>Men's Athletic Footwear</td>\n",
       "      <td>Footwear</td>\n",
       "      <td>Men</td>\n",
       "      <td>Northeast</td>\n",
       "      <td>Foot Locker</td>\n",
       "      <td>In-store</td>\n",
       "      <td>New York</td>\n",
       "      <td>50</td>\n",
       "      <td>4367.00</td>\n",
       "      <td>5000</td>\n",
       "      <td>250000</td>\n",
       "      <td>Mid-range</td>\n",
       "    </tr>\n",
       "    <tr>\n",
       "      <th>2</th>\n",
       "      <td>2020-01-03</td>\n",
       "      <td>1</td>\n",
       "      <td>Friday</td>\n",
       "      <td>2020</td>\n",
       "      <td>Women's Street Footwear</td>\n",
       "      <td>Footwear</td>\n",
       "      <td>Women</td>\n",
       "      <td>Northeast</td>\n",
       "      <td>Foot Locker</td>\n",
       "      <td>In-store</td>\n",
       "      <td>New York</td>\n",
       "      <td>40</td>\n",
       "      <td>3493.60</td>\n",
       "      <td>4000</td>\n",
       "      <td>160000</td>\n",
       "      <td>Mid-range</td>\n",
       "    </tr>\n",
       "    <tr>\n",
       "      <th>3</th>\n",
       "      <td>2020-01-04</td>\n",
       "      <td>1</td>\n",
       "      <td>Saturday</td>\n",
       "      <td>2020</td>\n",
       "      <td>Women's Athletic Footwear</td>\n",
       "      <td>Footwear</td>\n",
       "      <td>Women</td>\n",
       "      <td>Northeast</td>\n",
       "      <td>Foot Locker</td>\n",
       "      <td>In-store</td>\n",
       "      <td>New York</td>\n",
       "      <td>45</td>\n",
       "      <td>3930.30</td>\n",
       "      <td>3825</td>\n",
       "      <td>172125</td>\n",
       "      <td>Mid-range</td>\n",
       "    </tr>\n",
       "    <tr>\n",
       "      <th>4</th>\n",
       "      <td>2020-01-05</td>\n",
       "      <td>1</td>\n",
       "      <td>Sunday</td>\n",
       "      <td>2020</td>\n",
       "      <td>Men's Apparel</td>\n",
       "      <td>Apparel</td>\n",
       "      <td>Men</td>\n",
       "      <td>Northeast</td>\n",
       "      <td>Foot Locker</td>\n",
       "      <td>In-store</td>\n",
       "      <td>New York</td>\n",
       "      <td>60</td>\n",
       "      <td>5240.40</td>\n",
       "      <td>5400</td>\n",
       "      <td>324000</td>\n",
       "      <td>Mid-range</td>\n",
       "    </tr>\n",
       "    <tr>\n",
       "      <th>...</th>\n",
       "      <td>...</td>\n",
       "      <td>...</td>\n",
       "      <td>...</td>\n",
       "      <td>...</td>\n",
       "      <td>...</td>\n",
       "      <td>...</td>\n",
       "      <td>...</td>\n",
       "      <td>...</td>\n",
       "      <td>...</td>\n",
       "      <td>...</td>\n",
       "      <td>...</td>\n",
       "      <td>...</td>\n",
       "      <td>...</td>\n",
       "      <td>...</td>\n",
       "      <td>...</td>\n",
       "      <td>...</td>\n",
       "    </tr>\n",
       "    <tr>\n",
       "      <th>9355</th>\n",
       "      <td>2021-07-06</td>\n",
       "      <td>7</td>\n",
       "      <td>Tuesday</td>\n",
       "      <td>2021</td>\n",
       "      <td>Women's Athletic Footwear</td>\n",
       "      <td>Footwear</td>\n",
       "      <td>Women</td>\n",
       "      <td>West</td>\n",
       "      <td>West Gear</td>\n",
       "      <td>Outlet</td>\n",
       "      <td>Idaho</td>\n",
       "      <td>38</td>\n",
       "      <td>3318.92</td>\n",
       "      <td>60</td>\n",
       "      <td>2280</td>\n",
       "      <td>Mid-range</td>\n",
       "    </tr>\n",
       "    <tr>\n",
       "      <th>9356</th>\n",
       "      <td>2021-04-05</td>\n",
       "      <td>4</td>\n",
       "      <td>Monday</td>\n",
       "      <td>2021</td>\n",
       "      <td>Women's Street Footwear</td>\n",
       "      <td>Footwear</td>\n",
       "      <td>Women</td>\n",
       "      <td>West</td>\n",
       "      <td>West Gear</td>\n",
       "      <td>Outlet</td>\n",
       "      <td>Idaho</td>\n",
       "      <td>19</td>\n",
       "      <td>1659.46</td>\n",
       "      <td>31</td>\n",
       "      <td>589</td>\n",
       "      <td>Affordable</td>\n",
       "    </tr>\n",
       "    <tr>\n",
       "      <th>9357</th>\n",
       "      <td>2021-05-05</td>\n",
       "      <td>5</td>\n",
       "      <td>Wednesday</td>\n",
       "      <td>2021</td>\n",
       "      <td>Women's Street Footwear</td>\n",
       "      <td>Footwear</td>\n",
       "      <td>Women</td>\n",
       "      <td>West</td>\n",
       "      <td>West Gear</td>\n",
       "      <td>Outlet</td>\n",
       "      <td>Idaho</td>\n",
       "      <td>18</td>\n",
       "      <td>1572.12</td>\n",
       "      <td>33</td>\n",
       "      <td>594</td>\n",
       "      <td>Affordable</td>\n",
       "    </tr>\n",
       "    <tr>\n",
       "      <th>9358</th>\n",
       "      <td>2021-06-04</td>\n",
       "      <td>6</td>\n",
       "      <td>Friday</td>\n",
       "      <td>2021</td>\n",
       "      <td>Women's Street Footwear</td>\n",
       "      <td>Footwear</td>\n",
       "      <td>Women</td>\n",
       "      <td>West</td>\n",
       "      <td>West Gear</td>\n",
       "      <td>Outlet</td>\n",
       "      <td>Idaho</td>\n",
       "      <td>34</td>\n",
       "      <td>2969.56</td>\n",
       "      <td>63</td>\n",
       "      <td>2142</td>\n",
       "      <td>Affordable</td>\n",
       "    </tr>\n",
       "    <tr>\n",
       "      <th>9359</th>\n",
       "      <td>2021-07-06</td>\n",
       "      <td>7</td>\n",
       "      <td>Tuesday</td>\n",
       "      <td>2021</td>\n",
       "      <td>Women's Street Footwear</td>\n",
       "      <td>Footwear</td>\n",
       "      <td>Women</td>\n",
       "      <td>West</td>\n",
       "      <td>West Gear</td>\n",
       "      <td>Outlet</td>\n",
       "      <td>Idaho</td>\n",
       "      <td>34</td>\n",
       "      <td>2969.56</td>\n",
       "      <td>95</td>\n",
       "      <td>3230</td>\n",
       "      <td>Affordable</td>\n",
       "    </tr>\n",
       "  </tbody>\n",
       "</table>\n",
       "<p>9356 rows × 16 columns</p>\n",
       "</div>"
      ],
      "text/plain": [
       "     Invoice Date  Month   Day Name  Year                    Product  \\\n",
       "0      2020-01-01      1  Wednesday  2020      Men's Street Footwear   \n",
       "1      2020-01-02      1   Thursday  2020    Men's Athletic Footwear   \n",
       "2      2020-01-03      1     Friday  2020    Women's Street Footwear   \n",
       "3      2020-01-04      1   Saturday  2020  Women's Athletic Footwear   \n",
       "4      2020-01-05      1     Sunday  2020              Men's Apparel   \n",
       "...           ...    ...        ...   ...                        ...   \n",
       "9355   2021-07-06      7    Tuesday  2021  Women's Athletic Footwear   \n",
       "9356   2021-04-05      4     Monday  2021    Women's Street Footwear   \n",
       "9357   2021-05-05      5  Wednesday  2021    Women's Street Footwear   \n",
       "9358   2021-06-04      6     Friday  2021    Women's Street Footwear   \n",
       "9359   2021-07-06      7    Tuesday  2021    Women's Street Footwear   \n",
       "\n",
       "     Product_category Gender     Region     Retailer Sales Method     State  \\\n",
       "0            Footwear    Men  Northeast  Foot Locker     In-store  New York   \n",
       "1            Footwear    Men  Northeast  Foot Locker     In-store  New York   \n",
       "2            Footwear  Women  Northeast  Foot Locker     In-store  New York   \n",
       "3            Footwear  Women  Northeast  Foot Locker     In-store  New York   \n",
       "4             Apparel    Men  Northeast  Foot Locker     In-store  New York   \n",
       "...               ...    ...        ...          ...          ...       ...   \n",
       "9355         Footwear  Women       West    West Gear       Outlet     Idaho   \n",
       "9356         Footwear  Women       West    West Gear       Outlet     Idaho   \n",
       "9357         Footwear  Women       West    West Gear       Outlet     Idaho   \n",
       "9358         Footwear  Women       West    West Gear       Outlet     Idaho   \n",
       "9359         Footwear  Women       West    West Gear       Outlet     Idaho   \n",
       "\n",
       "      Price per Unit  Price in Indian Ruppees  Total Sales  Total Amount  \\\n",
       "0                 50                  4367.00         6000        300000   \n",
       "1                 50                  4367.00         5000        250000   \n",
       "2                 40                  3493.60         4000        160000   \n",
       "3                 45                  3930.30         3825        172125   \n",
       "4                 60                  5240.40         5400        324000   \n",
       "...              ...                      ...          ...           ...   \n",
       "9355              38                  3318.92           60          2280   \n",
       "9356              19                  1659.46           31           589   \n",
       "9357              18                  1572.12           33           594   \n",
       "9358              34                  2969.56           63          2142   \n",
       "9359              34                  2969.56           95          3230   \n",
       "\n",
       "     Price_category  \n",
       "0         Mid-range  \n",
       "1         Mid-range  \n",
       "2         Mid-range  \n",
       "3         Mid-range  \n",
       "4         Mid-range  \n",
       "...             ...  \n",
       "9355      Mid-range  \n",
       "9356     Affordable  \n",
       "9357     Affordable  \n",
       "9358     Affordable  \n",
       "9359     Affordable  \n",
       "\n",
       "[9356 rows x 16 columns]"
      ]
     },
     "execution_count": 191,
     "metadata": {},
     "output_type": "execute_result"
    }
   ],
   "source": [
    "df"
   ]
  },
  {
   "cell_type": "code",
   "execution_count": 192,
   "metadata": {},
   "outputs": [],
   "source": [
    "# a=df.groupby(['Month Name','Month','Category'])[['Price per Unit']].mean()\n",
    "# a.sort_values(by='Month',ascending=True)"
   ]
  },
  {
   "cell_type": "code",
   "execution_count": 193,
   "metadata": {},
   "outputs": [
    {
     "data": {
      "text/plain": [
       "Invoice Date               datetime64[ns]\n",
       "Month                               int32\n",
       "Day Name                           object\n",
       "Year                                int32\n",
       "Product                            object\n",
       "Product_category                   object\n",
       "Gender                             object\n",
       "Region                             object\n",
       "Retailer                           object\n",
       "Sales Method                       object\n",
       "State                              object\n",
       "Price per Unit                      int64\n",
       "Price in Indian Ruppees           float64\n",
       "Total Sales                         int64\n",
       "Total Amount                        int64\n",
       "Price_category                     object\n",
       "dtype: object"
      ]
     },
     "execution_count": 193,
     "metadata": {},
     "output_type": "execute_result"
    }
   ],
   "source": [
    "df.dtypes"
   ]
  },
  {
   "cell_type": "markdown",
   "metadata": {},
   "source": [
    "Visualization"
   ]
  },
  {
   "cell_type": "code",
   "execution_count": 194,
   "metadata": {},
   "outputs": [
    {
     "data": {
      "text/plain": [
       "Text(0.5, 1.0, 'Variation of price in each year')"
      ]
     },
     "execution_count": 194,
     "metadata": {},
     "output_type": "execute_result"
    },
    {
     "data": {
      "image/png": "[encoded data removed]",
      "text/plain": [
       "<Figure size 640x480 with 1 Axes>"
      ]
     },
     "metadata": {},
     "output_type": "display_data"
    }
   ],
   "source": [
    "plt.plot(df.groupby('Year')['Price per Unit'].mean())\n",
    "plt.xticks(rotation=90)\n",
    "plt.xlabel('Year')\n",
    "plt.ylabel('Price')\n",
    "plt.title('Variation of price in each year')"
   ]
  },
  {
   "cell_type": "code",
   "execution_count": null,
   "metadata": {},
   "outputs": [],
   "source": []
  },
  {
   "cell_type": "code",
   "execution_count": 195,
   "metadata": {},
   "outputs": [
    {
     "data": {
      "text/plain": [
       "Text(0.5, 1.0, 'Total sales in each days')"
      ]
     },
     "execution_count": 195,
     "metadata": {},
     "output_type": "execute_result"
    },
    {
     "data": {
      "image/png": "[encoded data removed]",
      "text/plain": [
       "<Figure size 640x480 with 1 Axes>"
      ]
     },
     "metadata": {},
     "output_type": "display_data"
    }
   ],
   "source": [
    "import matplotlib.pyplot as plt\n",
    "x=df['Day Name'].value_counts().index\n",
    "y=df['Day Name'].value_counts()\n",
    "plt.bar(x,y)\n",
    "plt.xticks(rotation=90)\n",
    "plt.xlabel('Day Name')\n",
    "plt.ylabel('Number of sales')\n",
    "plt.title('Total sales in each days')\n"
   ]
  },
  {
   "cell_type": "code",
   "execution_count": 197,
   "metadata": {},
   "outputs": [
    {
     "data": {
      "text/html": [
       "<div>\n",
       "<style scoped>\n",
       "    .dataframe tbody tr th:only-of-type {\n",
       "        vertical-align: middle;\n",
       "    }\n",
       "\n",
       "    .dataframe tbody tr th {\n",
       "        vertical-align: top;\n",
       "    }\n",
       "\n",
       "    .dataframe thead th {\n",
       "        text-align: right;\n",
       "    }\n",
       "</style>\n",
       "<table border=\"1\" class=\"dataframe\">\n",
       "  <thead>\n",
       "    <tr style=\"text-align: right;\">\n",
       "      <th></th>\n",
       "      <th>Invoice Date</th>\n",
       "      <th>Month</th>\n",
       "      <th>Day Name</th>\n",
       "      <th>Year</th>\n",
       "      <th>Product</th>\n",
       "      <th>Product_category</th>\n",
       "      <th>Gender</th>\n",
       "      <th>Region</th>\n",
       "      <th>Retailer</th>\n",
       "      <th>Sales Method</th>\n",
       "      <th>State</th>\n",
       "      <th>Price per Unit</th>\n",
       "      <th>Price in Indian Ruppees</th>\n",
       "      <th>Total Sales</th>\n",
       "      <th>Total Amount</th>\n",
       "      <th>Price_category</th>\n",
       "    </tr>\n",
       "  </thead>\n",
       "  <tbody>\n",
       "    <tr>\n",
       "      <th>0</th>\n",
       "      <td>2020-01-01</td>\n",
       "      <td>1</td>\n",
       "      <td>Wednesday</td>\n",
       "      <td>2020</td>\n",
       "      <td>Men's Street Footwear</td>\n",
       "      <td>Footwear</td>\n",
       "      <td>Men</td>\n",
       "      <td>Northeast</td>\n",
       "      <td>Foot Locker</td>\n",
       "      <td>In-store</td>\n",
       "      <td>New York</td>\n",
       "      <td>50</td>\n",
       "      <td>4367.00</td>\n",
       "      <td>6000</td>\n",
       "      <td>300000</td>\n",
       "      <td>Mid-range</td>\n",
       "    </tr>\n",
       "    <tr>\n",
       "      <th>1</th>\n",
       "      <td>2020-01-02</td>\n",
       "      <td>1</td>\n",
       "      <td>Thursday</td>\n",
       "      <td>2020</td>\n",
       "      <td>Men's Athletic Footwear</td>\n",
       "      <td>Footwear</td>\n",
       "      <td>Men</td>\n",
       "      <td>Northeast</td>\n",
       "      <td>Foot Locker</td>\n",
       "      <td>In-store</td>\n",
       "      <td>New York</td>\n",
       "      <td>50</td>\n",
       "      <td>4367.00</td>\n",
       "      <td>5000</td>\n",
       "      <td>250000</td>\n",
       "      <td>Mid-range</td>\n",
       "    </tr>\n",
       "    <tr>\n",
       "      <th>2</th>\n",
       "      <td>2020-01-03</td>\n",
       "      <td>1</td>\n",
       "      <td>Friday</td>\n",
       "      <td>2020</td>\n",
       "      <td>Women's Street Footwear</td>\n",
       "      <td>Footwear</td>\n",
       "      <td>Women</td>\n",
       "      <td>Northeast</td>\n",
       "      <td>Foot Locker</td>\n",
       "      <td>In-store</td>\n",
       "      <td>New York</td>\n",
       "      <td>40</td>\n",
       "      <td>3493.60</td>\n",
       "      <td>4000</td>\n",
       "      <td>160000</td>\n",
       "      <td>Mid-range</td>\n",
       "    </tr>\n",
       "    <tr>\n",
       "      <th>3</th>\n",
       "      <td>2020-01-04</td>\n",
       "      <td>1</td>\n",
       "      <td>Saturday</td>\n",
       "      <td>2020</td>\n",
       "      <td>Women's Athletic Footwear</td>\n",
       "      <td>Footwear</td>\n",
       "      <td>Women</td>\n",
       "      <td>Northeast</td>\n",
       "      <td>Foot Locker</td>\n",
       "      <td>In-store</td>\n",
       "      <td>New York</td>\n",
       "      <td>45</td>\n",
       "      <td>3930.30</td>\n",
       "      <td>3825</td>\n",
       "      <td>172125</td>\n",
       "      <td>Mid-range</td>\n",
       "    </tr>\n",
       "    <tr>\n",
       "      <th>4</th>\n",
       "      <td>2020-01-05</td>\n",
       "      <td>1</td>\n",
       "      <td>Sunday</td>\n",
       "      <td>2020</td>\n",
       "      <td>Men's Apparel</td>\n",
       "      <td>Apparel</td>\n",
       "      <td>Men</td>\n",
       "      <td>Northeast</td>\n",
       "      <td>Foot Locker</td>\n",
       "      <td>In-store</td>\n",
       "      <td>New York</td>\n",
       "      <td>60</td>\n",
       "      <td>5240.40</td>\n",
       "      <td>5400</td>\n",
       "      <td>324000</td>\n",
       "      <td>Mid-range</td>\n",
       "    </tr>\n",
       "    <tr>\n",
       "      <th>...</th>\n",
       "      <td>...</td>\n",
       "      <td>...</td>\n",
       "      <td>...</td>\n",
       "      <td>...</td>\n",
       "      <td>...</td>\n",
       "      <td>...</td>\n",
       "      <td>...</td>\n",
       "      <td>...</td>\n",
       "      <td>...</td>\n",
       "      <td>...</td>\n",
       "      <td>...</td>\n",
       "      <td>...</td>\n",
       "      <td>...</td>\n",
       "      <td>...</td>\n",
       "      <td>...</td>\n",
       "      <td>...</td>\n",
       "    </tr>\n",
       "    <tr>\n",
       "      <th>9355</th>\n",
       "      <td>2021-07-06</td>\n",
       "      <td>7</td>\n",
       "      <td>Tuesday</td>\n",
       "      <td>2021</td>\n",
       "      <td>Women's Athletic Footwear</td>\n",
       "      <td>Footwear</td>\n",
       "      <td>Women</td>\n",
       "      <td>West</td>\n",
       "      <td>West Gear</td>\n",
       "      <td>Outlet</td>\n",
       "      <td>Idaho</td>\n",
       "      <td>38</td>\n",
       "      <td>3318.92</td>\n",
       "      <td>60</td>\n",
       "      <td>2280</td>\n",
       "      <td>Mid-range</td>\n",
       "    </tr>\n",
       "    <tr>\n",
       "      <th>9356</th>\n",
       "      <td>2021-04-05</td>\n",
       "      <td>4</td>\n",
       "      <td>Monday</td>\n",
       "      <td>2021</td>\n",
       "      <td>Women's Street Footwear</td>\n",
       "      <td>Footwear</td>\n",
       "      <td>Women</td>\n",
       "      <td>West</td>\n",
       "      <td>West Gear</td>\n",
       "      <td>Outlet</td>\n",
       "      <td>Idaho</td>\n",
       "      <td>19</td>\n",
       "      <td>1659.46</td>\n",
       "      <td>31</td>\n",
       "      <td>589</td>\n",
       "      <td>Affordable</td>\n",
       "    </tr>\n",
       "    <tr>\n",
       "      <th>9357</th>\n",
       "      <td>2021-05-05</td>\n",
       "      <td>5</td>\n",
       "      <td>Wednesday</td>\n",
       "      <td>2021</td>\n",
       "      <td>Women's Street Footwear</td>\n",
       "      <td>Footwear</td>\n",
       "      <td>Women</td>\n",
       "      <td>West</td>\n",
       "      <td>West Gear</td>\n",
       "      <td>Outlet</td>\n",
       "      <td>Idaho</td>\n",
       "      <td>18</td>\n",
       "      <td>1572.12</td>\n",
       "      <td>33</td>\n",
       "      <td>594</td>\n",
       "      <td>Affordable</td>\n",
       "    </tr>\n",
       "    <tr>\n",
       "      <th>9358</th>\n",
       "      <td>2021-06-04</td>\n",
       "      <td>6</td>\n",
       "      <td>Friday</td>\n",
       "      <td>2021</td>\n",
       "      <td>Women's Street Footwear</td>\n",
       "      <td>Footwear</td>\n",
       "      <td>Women</td>\n",
       "      <td>West</td>\n",
       "      <td>West Gear</td>\n",
       "      <td>Outlet</td>\n",
       "      <td>Idaho</td>\n",
       "      <td>34</td>\n",
       "      <td>2969.56</td>\n",
       "      <td>63</td>\n",
       "      <td>2142</td>\n",
       "      <td>Affordable</td>\n",
       "    </tr>\n",
       "    <tr>\n",
       "      <th>9359</th>\n",
       "      <td>2021-07-06</td>\n",
       "      <td>7</td>\n",
       "      <td>Tuesday</td>\n",
       "      <td>2021</td>\n",
       "      <td>Women's Street Footwear</td>\n",
       "      <td>Footwear</td>\n",
       "      <td>Women</td>\n",
       "      <td>West</td>\n",
       "      <td>West Gear</td>\n",
       "      <td>Outlet</td>\n",
       "      <td>Idaho</td>\n",
       "      <td>34</td>\n",
       "      <td>2969.56</td>\n",
       "      <td>95</td>\n",
       "      <td>3230</td>\n",
       "      <td>Affordable</td>\n",
       "    </tr>\n",
       "  </tbody>\n",
       "</table>\n",
       "<p>9356 rows × 16 columns</p>\n",
       "</div>"
      ],
      "text/plain": [
       "     Invoice Date  Month   Day Name  Year                    Product  \\\n",
       "0      2020-01-01      1  Wednesday  2020      Men's Street Footwear   \n",
       "1      2020-01-02      1   Thursday  2020    Men's Athletic Footwear   \n",
       "2      2020-01-03      1     Friday  2020    Women's Street Footwear   \n",
       "3      2020-01-04      1   Saturday  2020  Women's Athletic Footwear   \n",
       "4      2020-01-05      1     Sunday  2020              Men's Apparel   \n",
       "...           ...    ...        ...   ...                        ...   \n",
       "9355   2021-07-06      7    Tuesday  2021  Women's Athletic Footwear   \n",
       "9356   2021-04-05      4     Monday  2021    Women's Street Footwear   \n",
       "9357   2021-05-05      5  Wednesday  2021    Women's Street Footwear   \n",
       "9358   2021-06-04      6     Friday  2021    Women's Street Footwear   \n",
       "9359   2021-07-06      7    Tuesday  2021    Women's Street Footwear   \n",
       "\n",
       "     Product_category Gender     Region     Retailer Sales Method     State  \\\n",
       "0            Footwear    Men  Northeast  Foot Locker     In-store  New York   \n",
       "1            Footwear    Men  Northeast  Foot Locker     In-store  New York   \n",
       "2            Footwear  Women  Northeast  Foot Locker     In-store  New York   \n",
       "3            Footwear  Women  Northeast  Foot Locker     In-store  New York   \n",
       "4             Apparel    Men  Northeast  Foot Locker     In-store  New York   \n",
       "...               ...    ...        ...          ...          ...       ...   \n",
       "9355         Footwear  Women       West    West Gear       Outlet     Idaho   \n",
       "9356         Footwear  Women       West    West Gear       Outlet     Idaho   \n",
       "9357         Footwear  Women       West    West Gear       Outlet     Idaho   \n",
       "9358         Footwear  Women       West    West Gear       Outlet     Idaho   \n",
       "9359         Footwear  Women       West    West Gear       Outlet     Idaho   \n",
       "\n",
       "      Price per Unit  Price in Indian Ruppees  Total Sales  Total Amount  \\\n",
       "0                 50                  4367.00         6000        300000   \n",
       "1                 50                  4367.00         5000        250000   \n",
       "2                 40                  3493.60         4000        160000   \n",
       "3                 45                  3930.30         3825        172125   \n",
       "4                 60                  5240.40         5400        324000   \n",
       "...              ...                      ...          ...           ...   \n",
       "9355              38                  3318.92           60          2280   \n",
       "9356              19                  1659.46           31           589   \n",
       "9357              18                  1572.12           33           594   \n",
       "9358              34                  2969.56           63          2142   \n",
       "9359              34                  2969.56           95          3230   \n",
       "\n",
       "     Price_category  \n",
       "0         Mid-range  \n",
       "1         Mid-range  \n",
       "2         Mid-range  \n",
       "3         Mid-range  \n",
       "4         Mid-range  \n",
       "...             ...  \n",
       "9355      Mid-range  \n",
       "9356     Affordable  \n",
       "9357     Affordable  \n",
       "9358     Affordable  \n",
       "9359     Affordable  \n",
       "\n",
       "[9356 rows x 16 columns]"
      ]
     },
     "execution_count": 197,
     "metadata": {},
     "output_type": "execute_result"
    }
   ],
   "source": [
    "df"
   ]
  },
  {
   "cell_type": "code",
   "execution_count": 196,
   "metadata": {},
   "outputs": [
    {
     "ename": "KeyError",
     "evalue": "'Month Name'",
     "output_type": "error",
     "traceback": [
      "\u001b[1;31m---------------------------------------------------------------------------\u001b[0m",
      "\u001b[1;31mKeyError\u001b[0m                                  Traceback (most recent call last)",
      "File \u001b[1;32mc:\\Users\\anson\\AppData\\Local\\Programs\\Python\\Python312\\Lib\\site-packages\\pandas\\core\\indexes\\base.py:3805\u001b[0m, in \u001b[0;36mIndex.get_loc\u001b[1;34m(self, key)\u001b[0m\n\u001b[0;32m   3804\u001b[0m \u001b[38;5;28;01mtry\u001b[39;00m:\n\u001b[1;32m-> 3805\u001b[0m     \u001b[38;5;28;01mreturn\u001b[39;00m \u001b[38;5;28;43mself\u001b[39;49m\u001b[38;5;241;43m.\u001b[39;49m\u001b[43m_engine\u001b[49m\u001b[38;5;241;43m.\u001b[39;49m\u001b[43mget_loc\u001b[49m\u001b[43m(\u001b[49m\u001b[43mcasted_key\u001b[49m\u001b[43m)\u001b[49m\n\u001b[0;32m   3806\u001b[0m \u001b[38;5;28;01mexcept\u001b[39;00m \u001b[38;5;167;01mKeyError\u001b[39;00m \u001b[38;5;28;01mas\u001b[39;00m err:\n",
      "File \u001b[1;32mindex.pyx:167\u001b[0m, in \u001b[0;36mpandas._libs.index.IndexEngine.get_loc\u001b[1;34m()\u001b[0m\n",
      "File \u001b[1;32mindex.pyx:196\u001b[0m, in \u001b[0;36mpandas._libs.index.IndexEngine.get_loc\u001b[1;34m()\u001b[0m\n",
      "File \u001b[1;32mpandas\\\\_libs\\\\hashtable_class_helper.pxi:7081\u001b[0m, in \u001b[0;36mpandas._libs.hashtable.PyObjectHashTable.get_item\u001b[1;34m()\u001b[0m\n",
      "File \u001b[1;32mpandas\\\\_libs\\\\hashtable_class_helper.pxi:7089\u001b[0m, in \u001b[0;36mpandas._libs.hashtable.PyObjectHashTable.get_item\u001b[1;34m()\u001b[0m\n",
      "\u001b[1;31mKeyError\u001b[0m: 'Month Name'",
      "\nThe above exception was the direct cause of the following exception:\n",
      "\u001b[1;31mKeyError\u001b[0m                                  Traceback (most recent call last)",
      "Cell \u001b[1;32mIn[196], line 2\u001b[0m\n\u001b[0;32m      1\u001b[0m \u001b[38;5;28;01mimport\u001b[39;00m\u001b[38;5;250m \u001b[39m\u001b[38;5;21;01mmatplotlib\u001b[39;00m\u001b[38;5;21;01m.\u001b[39;00m\u001b[38;5;21;01mpyplot\u001b[39;00m\u001b[38;5;250m \u001b[39m\u001b[38;5;28;01mas\u001b[39;00m\u001b[38;5;250m \u001b[39m\u001b[38;5;21;01mplt\u001b[39;00m\n\u001b[1;32m----> 2\u001b[0m x\u001b[38;5;241m=\u001b[39m\u001b[43mdf\u001b[49m\u001b[43m[\u001b[49m\u001b[38;5;124;43m'\u001b[39;49m\u001b[38;5;124;43mMonth Name\u001b[39;49m\u001b[38;5;124;43m'\u001b[39;49m\u001b[43m]\u001b[49m\u001b[38;5;241m.\u001b[39mvalue_counts()\u001b[38;5;241m.\u001b[39mindex\n\u001b[0;32m      3\u001b[0m y\u001b[38;5;241m=\u001b[39mdf[\u001b[38;5;124m'\u001b[39m\u001b[38;5;124mMonth Name\u001b[39m\u001b[38;5;124m'\u001b[39m]\u001b[38;5;241m.\u001b[39mvalue_counts()\n\u001b[0;32m      4\u001b[0m plt\u001b[38;5;241m.\u001b[39mbar(x,y)\n",
      "File \u001b[1;32mc:\\Users\\anson\\AppData\\Local\\Programs\\Python\\Python312\\Lib\\site-packages\\pandas\\core\\frame.py:4102\u001b[0m, in \u001b[0;36mDataFrame.__getitem__\u001b[1;34m(self, key)\u001b[0m\n\u001b[0;32m   4100\u001b[0m \u001b[38;5;28;01mif\u001b[39;00m \u001b[38;5;28mself\u001b[39m\u001b[38;5;241m.\u001b[39mcolumns\u001b[38;5;241m.\u001b[39mnlevels \u001b[38;5;241m>\u001b[39m \u001b[38;5;241m1\u001b[39m:\n\u001b[0;32m   4101\u001b[0m     \u001b[38;5;28;01mreturn\u001b[39;00m \u001b[38;5;28mself\u001b[39m\u001b[38;5;241m.\u001b[39m_getitem_multilevel(key)\n\u001b[1;32m-> 4102\u001b[0m indexer \u001b[38;5;241m=\u001b[39m \u001b[38;5;28;43mself\u001b[39;49m\u001b[38;5;241;43m.\u001b[39;49m\u001b[43mcolumns\u001b[49m\u001b[38;5;241;43m.\u001b[39;49m\u001b[43mget_loc\u001b[49m\u001b[43m(\u001b[49m\u001b[43mkey\u001b[49m\u001b[43m)\u001b[49m\n\u001b[0;32m   4103\u001b[0m \u001b[38;5;28;01mif\u001b[39;00m is_integer(indexer):\n\u001b[0;32m   4104\u001b[0m     indexer \u001b[38;5;241m=\u001b[39m [indexer]\n",
      "File \u001b[1;32mc:\\Users\\anson\\AppData\\Local\\Programs\\Python\\Python312\\Lib\\site-packages\\pandas\\core\\indexes\\base.py:3812\u001b[0m, in \u001b[0;36mIndex.get_loc\u001b[1;34m(self, key)\u001b[0m\n\u001b[0;32m   3807\u001b[0m     \u001b[38;5;28;01mif\u001b[39;00m \u001b[38;5;28misinstance\u001b[39m(casted_key, \u001b[38;5;28mslice\u001b[39m) \u001b[38;5;129;01mor\u001b[39;00m (\n\u001b[0;32m   3808\u001b[0m         \u001b[38;5;28misinstance\u001b[39m(casted_key, abc\u001b[38;5;241m.\u001b[39mIterable)\n\u001b[0;32m   3809\u001b[0m         \u001b[38;5;129;01mand\u001b[39;00m \u001b[38;5;28many\u001b[39m(\u001b[38;5;28misinstance\u001b[39m(x, \u001b[38;5;28mslice\u001b[39m) \u001b[38;5;28;01mfor\u001b[39;00m x \u001b[38;5;129;01min\u001b[39;00m casted_key)\n\u001b[0;32m   3810\u001b[0m     ):\n\u001b[0;32m   3811\u001b[0m         \u001b[38;5;28;01mraise\u001b[39;00m InvalidIndexError(key)\n\u001b[1;32m-> 3812\u001b[0m     \u001b[38;5;28;01mraise\u001b[39;00m \u001b[38;5;167;01mKeyError\u001b[39;00m(key) \u001b[38;5;28;01mfrom\u001b[39;00m\u001b[38;5;250m \u001b[39m\u001b[38;5;21;01merr\u001b[39;00m\n\u001b[0;32m   3813\u001b[0m \u001b[38;5;28;01mexcept\u001b[39;00m \u001b[38;5;167;01mTypeError\u001b[39;00m:\n\u001b[0;32m   3814\u001b[0m     \u001b[38;5;66;03m# If we have a listlike key, _check_indexing_error will raise\u001b[39;00m\n\u001b[0;32m   3815\u001b[0m     \u001b[38;5;66;03m#  InvalidIndexError. Otherwise we fall through and re-raise\u001b[39;00m\n\u001b[0;32m   3816\u001b[0m     \u001b[38;5;66;03m#  the TypeError.\u001b[39;00m\n\u001b[0;32m   3817\u001b[0m     \u001b[38;5;28mself\u001b[39m\u001b[38;5;241m.\u001b[39m_check_indexing_error(key)\n",
      "\u001b[1;31mKeyError\u001b[0m: 'Month Name'"
     ]
    }
   ],
   "source": [
    "import matplotlib.pyplot as plt\n",
    "x=df['Month Name'].value_counts().index\n",
    "y=df['Month Name'].value_counts()\n",
    "plt.bar(x,y)\n",
    "plt.xticks(rotation=90)\n",
    "plt.xlabel('Month Name')\n",
    "plt.ylabel('Number of sales')\n",
    "plt.title('Bar graph of total sales in each days')"
   ]
  },
  {
   "cell_type": "code",
   "execution_count": null,
   "metadata": {},
   "outputs": [
    {
     "data": {
      "text/plain": [
       "Text(0.5, 1.0, 'Bar graph of total sales in each month')"
      ]
     },
     "execution_count": 257,
     "metadata": {},
     "output_type": "execute_result"
    },
    {
     "data": {
      "image/png": "[encoded data removed]",
      "text/plain": [
       "<Figure size 640x480 with 1 Axes>"
      ]
     },
     "metadata": {},
     "output_type": "display_data"
    }
   ],
   "source": [
    "y=df.groupby('Month Name')['Total Sales'].sum()\n",
    "x=y.index\n",
    "plt.bar(x,y)\n",
    "plt.xticks(rotation=90)\n",
    "plt.xlabel('Month Name')\n",
    "plt.ylabel('Number of sales')\n",
    "plt.title('Bar graph of total sales in each month')"
   ]
  },
  {
   "cell_type": "code",
   "execution_count": null,
   "metadata": {},
   "outputs": [
    {
     "name": "stdout",
     "output_type": "stream",
     "text": [
      "17\n"
     ]
    },
    {
     "data": {
      "text/plain": [
       "Index(['Invoice Date', 'Day Name', 'Month Name', 'Month', 'Year', 'Product',\n",
       "       'Product_category', 'Gender', 'Region', 'Retailer', 'Sales Method',\n",
       "       'State', 'Price per Unit', 'Price in Indian Rupees', 'Price_category',\n",
       "       'Total Sales', 'Total Amount'],\n",
       "      dtype='object')"
      ]
     },
     "execution_count": 251,
     "metadata": {},
     "output_type": "execute_result"
    }
   ],
   "source": [
    "print(len(df.columns))\n",
    "df.columns"
   ]
  },
  {
   "cell_type": "code",
   "execution_count": null,
   "metadata": {},
   "outputs": [
    {
     "data": {
      "text/plain": [
       "{'whiskers': [<matplotlib.lines.Line2D at 0x1c6fd5b0560>,\n",
       "  <matplotlib.lines.Line2D at 0x1c6fd5b0890>],\n",
       " 'caps': [<matplotlib.lines.Line2D at 0x1c6fd5b0bc0>,\n",
       "  <matplotlib.lines.Line2D at 0x1c6fd5b0e90>],\n",
       " 'boxes': [<matplotlib.lines.Line2D at 0x1c6fd5936b0>],\n",
       " 'medians': [<matplotlib.lines.Line2D at 0x1c6fd5b11c0>],\n",
       " 'fliers': [<matplotlib.lines.Line2D at 0x1c6fd5b14c0>],\n",
       " 'means': []}"
      ]
     },
     "execution_count": 271,
     "metadata": {},
     "output_type": "execute_result"
    },
    {
     "data": {
      "image/png": "[encoded data removed]",
      "text/plain": [
       "<Figure size 640x480 with 1 Axes>"
      ]
     },
     "metadata": {},
     "output_type": "display_data"
    }
   ],
   "source": [
    "plt.boxplot(df['Price per Unit'])"
   ]
  },
  {
   "cell_type": "code",
   "execution_count": null,
   "metadata": {},
   "outputs": [
    {
     "data": {
      "text/plain": [
       "Text(0, 0.5, 'Total sales')"
      ]
     },
     "execution_count": 270,
     "metadata": {},
     "output_type": "execute_result"
    },
    {
     "data": {
      "image/png": "[encoded data removed]",
      "text/plain": [
       "<Figure size 640x480 with 1 Axes>"
      ]
     },
     "metadata": {},
     "output_type": "display_data"
    }
   ],
   "source": [
    "plt.scatter(df['Price per Unit'],df['Total Sales'])\n",
    "plt.xlabel('Price per unit')\n",
    "plt.ylabel('Total sales')"
   ]
  },
  {
   "cell_type": "code",
   "execution_count": 200,
   "metadata": {},
   "outputs": [
    {
     "data": {
      "text/plain": [
       "([0, 1, 2],\n",
       " [Text(0, 0, 'In-store'), Text(1, 0, 'Outlet'), Text(2, 0, 'Online')])"
      ]
     },
     "execution_count": 200,
     "metadata": {},
     "output_type": "execute_result"
    },
    {
     "data": {
      "image/png": "[encoded data removed]",
      "text/plain": [
       "<Figure size 1200x1200 with 1 Axes>"
      ]
     },
     "metadata": {},
     "output_type": "display_data"
    }
   ],
   "source": [
    "import seaborn as sns\n",
    "import matplotlib.pyplot as plt\n",
    "plt.figure(figsize=(12,12))\n",
    "sns.countplot(x=df['Sales Method'],hue=df['Product'])\n",
    "plt.xticks(rotation=60)"
   ]
  },
  {
   "cell_type": "code",
   "execution_count": null,
   "metadata": {},
   "outputs": [
    {
     "data": {
      "text/plain": [
       "([0, 1, 2, 3, 4, 5],\n",
       " [Text(0, 0, 'Foot Locker'),\n",
       "  Text(1, 0, 'Walmart'),\n",
       "  Text(2, 0, 'Sports Direct'),\n",
       "  Text(3, 0, 'West Gear'),\n",
       "  Text(4, 0, \"Kohl's\"),\n",
       "  Text(5, 0, 'Amazon')])"
      ]
     },
     "execution_count": 395,
     "metadata": {},
     "output_type": "execute_result"
    },
    {
     "data": {
      "image/png": "[encoded data removed]",
      "text/plain": [
       "<Figure size 1000x1000 with 1 Axes>"
      ]
     },
     "metadata": {},
     "output_type": "display_data"
    }
   ],
   "source": [
    "import seaborn as sns\n",
    "plt.figure(figsize=(12,12))\n",
    "sns.countplot(x=df['Retailer'],hue=df['Product'])\n",
    "plt.xticks(rotation=60)"
   ]
  },
  {
   "cell_type": "code",
   "execution_count": null,
   "metadata": {},
   "outputs": [
    {
     "data": {
      "text/plain": [
       "Index(['Invoice Date', 'Day Name', 'Month Name', 'Month', 'Year', 'Product',\n",
       "       'Product_category', 'Gender', 'Region', 'Retailer', 'Sales Method',\n",
       "       'State', 'Price per Unit', 'Price in Indian Rupees', 'Price_category',\n",
       "       'Total Sales', 'Total Amount'],\n",
       "      dtype='object')"
      ]
     },
     "execution_count": 396,
     "metadata": {},
     "output_type": "execute_result"
    }
   ],
   "source": [
    "df.columns"
   ]
  },
  {
   "cell_type": "code",
   "execution_count": null,
   "metadata": {},
   "outputs": [
    {
     "data": {
      "text/plain": [
       "Text(0.5, 1.0, 'Count plot of each regions')"
      ]
     },
     "execution_count": 394,
     "metadata": {},
     "output_type": "execute_result"
    },
    {
     "data": {
      "image/png": "[encoded data removed]",
      "text/plain": [
       "<Figure size 640x480 with 1 Axes>"
      ]
     },
     "metadata": {},
     "output_type": "display_data"
    }
   ],
   "source": [
    "sns.countplot(x=df['Region'])\n",
    "plt.title(\"Count plot of each regions\")"
   ]
  },
  {
   "cell_type": "code",
   "execution_count": null,
   "metadata": {},
   "outputs": [
    {
     "data": {
      "text/plain": [
       "(array([2376.,    0., 1728.,    0.,    0., 2160.,    0., 1868.,    0.,\n",
       "        1224.]),\n",
       " array([0. , 0.4, 0.8, 1.2, 1.6, 2. , 2.4, 2.8, 3.2, 3.6, 4. ]),\n",
       " <BarContainer object of 10 artists>)"
      ]
     },
     "execution_count": 391,
     "metadata": {},
     "output_type": "execute_result"
    },
    {
     "data": {
      "image/png": "[encoded data removed]",
      "text/plain": [
       "<Figure size 640x480 with 1 Axes>"
      ]
     },
     "metadata": {},
     "output_type": "display_data"
    }
   ],
   "source": [
    "plt.hist(df['Region'])\n"
   ]
  },
  {
   "cell_type": "code",
   "execution_count": null,
   "metadata": {},
   "outputs": [
    {
     "data": {
      "text/html": [
       "<div>\n",
       "<style scoped>\n",
       "    .dataframe tbody tr th:only-of-type {\n",
       "        vertical-align: middle;\n",
       "    }\n",
       "\n",
       "    .dataframe tbody tr th {\n",
       "        vertical-align: top;\n",
       "    }\n",
       "\n",
       "    .dataframe thead th {\n",
       "        text-align: right;\n",
       "    }\n",
       "</style>\n",
       "<table border=\"1\" class=\"dataframe\">\n",
       "  <thead>\n",
       "    <tr style=\"text-align: right;\">\n",
       "      <th></th>\n",
       "      <th>Month</th>\n",
       "      <th>Year</th>\n",
       "      <th>Price per Unit</th>\n",
       "      <th>Price in Indian Rupees</th>\n",
       "      <th>Total Sales</th>\n",
       "      <th>Total Amount</th>\n",
       "    </tr>\n",
       "  </thead>\n",
       "  <tbody>\n",
       "    <tr>\n",
       "      <th>Month</th>\n",
       "      <td>1.000000</td>\n",
       "      <td>0.041944</td>\n",
       "      <td>0.250316</td>\n",
       "      <td>0.250316</td>\n",
       "      <td>0.040958</td>\n",
       "      <td>0.066171</td>\n",
       "    </tr>\n",
       "    <tr>\n",
       "      <th>Year</th>\n",
       "      <td>0.041944</td>\n",
       "      <td>1.000000</td>\n",
       "      <td>-0.163114</td>\n",
       "      <td>-0.163114</td>\n",
       "      <td>-0.135411</td>\n",
       "      <td>-0.135274</td>\n",
       "    </tr>\n",
       "    <tr>\n",
       "      <th>Price per Unit</th>\n",
       "      <td>0.250316</td>\n",
       "      <td>-0.163114</td>\n",
       "      <td>1.000000</td>\n",
       "      <td>1.000000</td>\n",
       "      <td>0.435545</td>\n",
       "      <td>0.525696</td>\n",
       "    </tr>\n",
       "    <tr>\n",
       "      <th>Price in Indian Rupees</th>\n",
       "      <td>0.250316</td>\n",
       "      <td>-0.163114</td>\n",
       "      <td>1.000000</td>\n",
       "      <td>1.000000</td>\n",
       "      <td>0.435545</td>\n",
       "      <td>0.525696</td>\n",
       "    </tr>\n",
       "    <tr>\n",
       "      <th>Total Sales</th>\n",
       "      <td>0.040958</td>\n",
       "      <td>-0.135411</td>\n",
       "      <td>0.435545</td>\n",
       "      <td>0.435545</td>\n",
       "      <td>1.000000</td>\n",
       "      <td>0.960300</td>\n",
       "    </tr>\n",
       "    <tr>\n",
       "      <th>Total Amount</th>\n",
       "      <td>0.066171</td>\n",
       "      <td>-0.135274</td>\n",
       "      <td>0.525696</td>\n",
       "      <td>0.525696</td>\n",
       "      <td>0.960300</td>\n",
       "      <td>1.000000</td>\n",
       "    </tr>\n",
       "  </tbody>\n",
       "</table>\n",
       "</div>"
      ],
      "text/plain": [
       "                           Month      Year  Price per Unit  \\\n",
       "Month                   1.000000  0.041944        0.250316   \n",
       "Year                    0.041944  1.000000       -0.163114   \n",
       "Price per Unit          0.250316 -0.163114        1.000000   \n",
       "Price in Indian Rupees  0.250316 -0.163114        1.000000   \n",
       "Total Sales             0.040958 -0.135411        0.435545   \n",
       "Total Amount            0.066171 -0.135274        0.525696   \n",
       "\n",
       "                        Price in Indian Rupees  Total Sales  Total Amount  \n",
       "Month                                 0.250316     0.040958      0.066171  \n",
       "Year                                 -0.163114    -0.135411     -0.135274  \n",
       "Price per Unit                        1.000000     0.435545      0.525696  \n",
       "Price in Indian Rupees                1.000000     0.435545      0.525696  \n",
       "Total Sales                           0.435545     1.000000      0.960300  \n",
       "Total Amount                          0.525696     0.960300      1.000000  "
      ]
     },
     "execution_count": 289,
     "metadata": {},
     "output_type": "execute_result"
    }
   ],
   "source": [
    "df.corr(numeric_only=True)"
   ]
  },
  {
   "cell_type": "code",
   "execution_count": null,
   "metadata": {},
   "outputs": [
    {
     "data": {
      "text/plain": [
       "<Axes: >"
      ]
     },
     "execution_count": 291,
     "metadata": {},
     "output_type": "execute_result"
    },
    {
     "data": {
      "image/png": "[encoded data removed]",
      "text/plain": [
       "<Figure size 1000x1000 with 2 Axes>"
      ]
     },
     "metadata": {},
     "output_type": "display_data"
    }
   ],
   "source": [
    "plt.figure(figsize=(10,10))\n",
    "sns.heatmap(df.corr(numeric_only=True),annot=True)"
   ]
  },
  {
   "cell_type": "code",
   "execution_count": null,
   "metadata": {},
   "outputs": [
    {
     "data": {
      "text/plain": [
       "Invoice Date              datetime64[ns]\n",
       "Day Name                          object\n",
       "Month Name                        object\n",
       "Month                              int32\n",
       "Year                               int32\n",
       "Product                           object\n",
       "Product_category                  object\n",
       "Gender                            object\n",
       "Region                            object\n",
       "Retailer                          object\n",
       "Sales Method                      object\n",
       "State                             object\n",
       "Price per Unit                     int64\n",
       "Price in Indian Rupees           float64\n",
       "Price_category                    object\n",
       "Total Sales                        int64\n",
       "Total Amount                       int64\n",
       "dtype: object"
      ]
     },
     "execution_count": 308,
     "metadata": {},
     "output_type": "execute_result"
    }
   ],
   "source": [
    "df.dtypes"
   ]
  },
  {
   "cell_type": "markdown",
   "metadata": {},
   "source": [
    "Starting"
   ]
  },
  {
   "cell_type": "code",
   "execution_count": null,
   "metadata": {},
   "outputs": [
    {
     "data": {
      "text/plain": [
       "Text(0.5, 1.0, 'Average price of products in each states')"
      ]
     },
     "execution_count": 333,
     "metadata": {},
     "output_type": "execute_result"
    },
    {
     "data": {
      "image/png": "[encoded data removed]",
      "text/plain": [
       "<Figure size 640x480 with 1 Axes>"
      ]
     },
     "metadata": {},
     "output_type": "display_data"
    }
   ],
   "source": [
    "x=df.groupby('State')[['Price per Unit']].mean().sort_values('Price per Unit',ascending=False)\n",
    "plt.bar(x.index,x['Price per Unit'])\n",
    "plt.xticks(rotation=90)\n",
    "plt.xlabel(\"States\")\n",
    "plt.ylabel('Average price per unit')\n",
    "plt.title('Average price of products in each states')"
   ]
  },
  {
   "cell_type": "markdown",
   "metadata": {},
   "source": [
    "total sales in each months\n"
   ]
  },
  {
   "cell_type": "code",
   "execution_count": null,
   "metadata": {},
   "outputs": [
    {
     "data": {
      "text/plain": [
       "Text(0.5, 1.0, 'Total sales in each months')"
      ]
     },
     "execution_count": 361,
     "metadata": {},
     "output_type": "execute_result"
    },
    {
     "data": {
      "image/png": "[encoded data removed]",
      "text/plain": [
       "<Figure size 640x480 with 1 Axes>"
      ]
     },
     "metadata": {},
     "output_type": "display_data"
    }
   ],
   "source": [
    "x=df.groupby(['Month Name'])[['Total Sales']].sum().sort_values('Total Sales')\n",
    "x\n",
    "plt.bar(x.index,x[\"Total Sales\"])\n",
    "plt.xticks(rotation=90)\n",
    "plt.xlabel(\"Month Names\")\n",
    "plt.ylabel('Total sales')\n",
    "plt.title('Total sales in each months')"
   ]
  },
  {
   "cell_type": "code",
   "execution_count": null,
   "metadata": {},
   "outputs": [
    {
     "data": {
      "text/plain": [
       "([0, 1, 2, 3, 4, 5, 6, 7, 8, 9, 10, 11],\n",
       " [Text(0, 0, 'January'),\n",
       "  Text(1, 0, 'February'),\n",
       "  Text(2, 0, 'March'),\n",
       "  Text(3, 0, 'April'),\n",
       "  Text(4, 0, 'May'),\n",
       "  Text(5, 0, 'July'),\n",
       "  Text(6, 0, 'August'),\n",
       "  Text(7, 0, 'September'),\n",
       "  Text(8, 0, 'October'),\n",
       "  Text(9, 0, 'November'),\n",
       "  Text(10, 0, 'December'),\n",
       "  Text(11, 0, 'June')])"
      ]
     },
     "execution_count": 399,
     "metadata": {},
     "output_type": "execute_result"
    },
    {
     "data": {
      "image/png": "[encoded data removed]",
      "text/plain": [
       "<Figure size 1000x1000 with 1 Axes>"
      ]
     },
     "metadata": {},
     "output_type": "display_data"
    }
   ],
   "source": [
    "\n",
    "import seaborn as sns\n",
    "plt.figure(figsize=(10,10))\n",
    "sns.countplot(x=df['Month Name'],hue=df['Product_category'])\n",
    "plt.xticks(rotation=90)"
   ]
  },
  {
   "cell_type": "code",
   "execution_count": null,
   "metadata": {},
   "outputs": [],
   "source": [
    "# Day name vs average(price per unit)\n",
    "# month name,product vs average(price per unit) \n",
    "# sales method vs average(price per unit) \n",
    "# month name vs sum(total sales) --- which month is having the most slaes\n",
    "# "
   ]
  },
  {
   "cell_type": "code",
   "execution_count": null,
   "metadata": {},
   "outputs": [
    {
     "data": {
      "text/plain": [
       "Text(0.5, 1.0, 'Total sales among each products')"
      ]
     },
     "execution_count": 382,
     "metadata": {},
     "output_type": "execute_result"
    },
    {
     "data": {
      "image/png": "[encoded data removed]",
      "text/plain": [
       "<Figure size 640x480 with 1 Axes>"
      ]
     },
     "metadata": {},
     "output_type": "display_data"
    }
   ],
   "source": [
    "x=df.groupby('Product')['Total Sales'].sum()\n",
    "plt.bar(x.index,x)\n",
    "plt.xticks(rotation=90)\n",
    "plt.xlabel(\"Product names\")\n",
    "plt.ylabel('Total sales')\n",
    "plt.title('Total sales among each products')"
   ]
  },
  {
   "cell_type": "code",
   "execution_count": null,
   "metadata": {},
   "outputs": [
    {
     "data": {
      "text/plain": [
       "Text(0.5, 1.0, 'Total sales among each sales methods')"
      ]
     },
     "execution_count": 385,
     "metadata": {},
     "output_type": "execute_result"
    },
    {
     "data": {
      "image/png": "[encoded data removed]",
      "text/plain": [
       "<Figure size 640x480 with 1 Axes>"
      ]
     },
     "metadata": {},
     "output_type": "display_data"
    }
   ],
   "source": [
    "y=df.groupby(['Sales Method'])['Total Sales'].sum()\n",
    "plt.bar(y.index,y)\n",
    "plt.xticks(rotation=90)\n",
    "plt.xlabel(\"Sales Method\")\n",
    "plt.ylabel('Total sales')\n",
    "plt.title('Total sales among each sales methods')"
   ]
  },
  {
   "cell_type": "code",
   "execution_count": null,
   "metadata": {},
   "outputs": [
    {
     "data": {
      "text/plain": [
       "<Axes: xlabel='Gender', ylabel='count'>"
      ]
     },
     "execution_count": 398,
     "metadata": {},
     "output_type": "execute_result"
    },
    {
     "data": {
      "image/png": "[encoded data removed]",
      "text/plain": [
       "<Figure size 640x480 with 1 Axes>"
      ]
     },
     "metadata": {},
     "output_type": "display_data"
    }
   ],
   "source": [
    "sns.countplot(x=df['Gender'])"
   ]
  },
  {
   "cell_type": "code",
   "execution_count": null,
   "metadata": {},
   "outputs": [
    {
     "data": {
      "text/plain": [
       "<BarContainer object of 9356 artists>"
      ]
     },
     "execution_count": 401,
     "metadata": {},
     "output_type": "execute_result"
    },
    {
     "data": {
      "image/png": "[encoded data removed]",
      "text/plain": [
       "<Figure size 640x480 with 1 Axes>"
      ]
     },
     "metadata": {},
     "output_type": "display_data"
    }
   ],
   "source": [
    "plt.bar(df['Gender'],df['Total Sales'])"
   ]
  },
  {
   "cell_type": "code",
   "execution_count": null,
   "metadata": {},
   "outputs": [
    {
     "data": {
      "text/plain": [
       "Text(0.5, 1.0, 'Total sales among each genders')"
      ]
     },
     "execution_count": 409,
     "metadata": {},
     "output_type": "execute_result"
    },
    {
     "data": {
      "image/png": "[encoded data removed]",
      "text/plain": [
       "<Figure size 640x480 with 1 Axes>"
      ]
     },
     "metadata": {},
     "output_type": "display_data"
    }
   ],
   "source": [
    "x=df.groupby('Gender')['Total Sales'].sum()\n",
    "plt.bar(x.index,x)\n",
    "plt.xlabel(\"Gender\")\n",
    "plt.ylabel('Total sales')\n",
    "plt.title('Total sales among each genders')"
   ]
  },
  {
   "cell_type": "markdown",
   "metadata": {},
   "source": [
    "Univariate analysis\n"
   ]
  },
  {
   "cell_type": "markdown",
   "metadata": {},
   "source": [
    "Total sales among products"
   ]
  },
  {
   "cell_type": "code",
   "execution_count": null,
   "metadata": {},
   "outputs": [
    {
     "data": {
      "text/html": [
       "<div>\n",
       "<style scoped>\n",
       "    .dataframe tbody tr th:only-of-type {\n",
       "        vertical-align: middle;\n",
       "    }\n",
       "\n",
       "    .dataframe tbody tr th {\n",
       "        vertical-align: top;\n",
       "    }\n",
       "\n",
       "    .dataframe thead th {\n",
       "        text-align: right;\n",
       "    }\n",
       "</style>\n",
       "<table border=\"1\" class=\"dataframe\">\n",
       "  <thead>\n",
       "    <tr style=\"text-align: right;\">\n",
       "      <th></th>\n",
       "      <th>Total Sales</th>\n",
       "    </tr>\n",
       "    <tr>\n",
       "      <th>Product</th>\n",
       "      <th></th>\n",
       "    </tr>\n",
       "  </thead>\n",
       "  <tbody>\n",
       "    <tr>\n",
       "      <th>Men's Apparel</th>\n",
       "      <td>1192682</td>\n",
       "    </tr>\n",
       "    <tr>\n",
       "      <th>Men's Athletic Footwear</th>\n",
       "      <td>1468116</td>\n",
       "    </tr>\n",
       "    <tr>\n",
       "      <th>Men's Street Footwear</th>\n",
       "      <td>1999192</td>\n",
       "    </tr>\n",
       "    <tr>\n",
       "      <th>Women's Apparel</th>\n",
       "      <td>1720630</td>\n",
       "    </tr>\n",
       "    <tr>\n",
       "      <th>Women's Athletic Footwear</th>\n",
       "      <td>1023899</td>\n",
       "    </tr>\n",
       "    <tr>\n",
       "      <th>Women's Street Footwear</th>\n",
       "      <td>1224756</td>\n",
       "    </tr>\n",
       "  </tbody>\n",
       "</table>\n",
       "</div>"
      ],
      "text/plain": [
       "                           Total Sales\n",
       "Product                               \n",
       "Men's Apparel                  1192682\n",
       "Men's Athletic Footwear        1468116\n",
       "Men's Street Footwear          1999192\n",
       "Women's Apparel                1720630\n",
       "Women's Athletic Footwear      1023899\n",
       "Women's Street Footwear        1224756"
      ]
     },
     "execution_count": 461,
     "metadata": {},
     "output_type": "execute_result"
    }
   ],
   "source": [
    "df.groupby('Product')[['Total Sales']].sum()"
   ]
  },
  {
   "cell_type": "markdown",
   "metadata": {},
   "source": [
    "Average price per unit for each category\n"
   ]
  },
  {
   "cell_type": "code",
   "execution_count": null,
   "metadata": {},
   "outputs": [
    {
     "data": {
      "text/plain": [
       "Product_category\n",
       "Apparel     50.498718\n",
       "Footwear    41.866260\n",
       "Name: Price per Unit, dtype: float64"
      ]
     },
     "execution_count": 413,
     "metadata": {},
     "output_type": "execute_result"
    }
   ],
   "source": [
    "df.groupby('Product_category')['Price per Unit'].mean()\n"
   ]
  },
  {
   "cell_type": "markdown",
   "metadata": {},
   "source": [
    "Total amount generated per retailers"
   ]
  },
  {
   "cell_type": "code",
   "execution_count": null,
   "metadata": {},
   "outputs": [
    {
     "data": {
      "text/html": [
       "<div>\n",
       "<style scoped>\n",
       "    .dataframe tbody tr th:only-of-type {\n",
       "        vertical-align: middle;\n",
       "    }\n",
       "\n",
       "    .dataframe tbody tr th {\n",
       "        vertical-align: top;\n",
       "    }\n",
       "\n",
       "    .dataframe thead th {\n",
       "        text-align: right;\n",
       "    }\n",
       "</style>\n",
       "<table border=\"1\" class=\"dataframe\">\n",
       "  <thead>\n",
       "    <tr style=\"text-align: right;\">\n",
       "      <th></th>\n",
       "      <th>Total Amount</th>\n",
       "    </tr>\n",
       "    <tr>\n",
       "      <th>Retailer</th>\n",
       "      <th></th>\n",
       "    </tr>\n",
       "  </thead>\n",
       "  <tbody>\n",
       "    <tr>\n",
       "      <th>West Gear</th>\n",
       "      <td>145645230</td>\n",
       "    </tr>\n",
       "    <tr>\n",
       "      <th>Foot Locker</th>\n",
       "      <td>108568209</td>\n",
       "    </tr>\n",
       "    <tr>\n",
       "      <th>Sports Direct</th>\n",
       "      <td>88954123</td>\n",
       "    </tr>\n",
       "    <tr>\n",
       "      <th>Kohl's</th>\n",
       "      <td>52023841</td>\n",
       "    </tr>\n",
       "    <tr>\n",
       "      <th>Walmart</th>\n",
       "      <td>39869482</td>\n",
       "    </tr>\n",
       "    <tr>\n",
       "      <th>Amazon</th>\n",
       "      <td>34634912</td>\n",
       "    </tr>\n",
       "  </tbody>\n",
       "</table>\n",
       "</div>"
      ],
      "text/plain": [
       "               Total Amount\n",
       "Retailer                   \n",
       "West Gear         145645230\n",
       "Foot Locker       108568209\n",
       "Sports Direct      88954123\n",
       "Kohl's             52023841\n",
       "Walmart            39869482\n",
       "Amazon             34634912"
      ]
     },
     "execution_count": 420,
     "metadata": {},
     "output_type": "execute_result"
    }
   ],
   "source": [
    "df.groupby('Retailer')[['Total Amount']].sum().sort_values(by='Total Amount',ascending=False)"
   ]
  },
  {
   "cell_type": "code",
   "execution_count": null,
   "metadata": {},
   "outputs": [],
   "source": []
  },
  {
   "cell_type": "markdown",
   "metadata": {},
   "source": [
    "Bivariate Analysis"
   ]
  },
  {
   "cell_type": "markdown",
   "metadata": {},
   "source": [
    "Average price per unit of each product categories among each genders\n"
   ]
  },
  {
   "cell_type": "code",
   "execution_count": null,
   "metadata": {},
   "outputs": [
    {
     "data": {
      "text/html": [
       "<div>\n",
       "<style scoped>\n",
       "    .dataframe tbody tr th:only-of-type {\n",
       "        vertical-align: middle;\n",
       "    }\n",
       "\n",
       "    .dataframe tbody tr th {\n",
       "        vertical-align: top;\n",
       "    }\n",
       "\n",
       "    .dataframe thead th {\n",
       "        text-align: right;\n",
       "    }\n",
       "</style>\n",
       "<table border=\"1\" class=\"dataframe\">\n",
       "  <thead>\n",
       "    <tr style=\"text-align: right;\">\n",
       "      <th></th>\n",
       "      <th></th>\n",
       "      <th>Price per Unit</th>\n",
       "    </tr>\n",
       "    <tr>\n",
       "      <th>Product_category</th>\n",
       "      <th>Gender</th>\n",
       "      <th></th>\n",
       "    </tr>\n",
       "  </thead>\n",
       "  <tbody>\n",
       "    <tr>\n",
       "      <th rowspan=\"2\" valign=\"top\">Apparel</th>\n",
       "      <th>Men</th>\n",
       "      <td>49.870513</td>\n",
       "    </tr>\n",
       "    <tr>\n",
       "      <th>Women</th>\n",
       "      <td>51.126923</td>\n",
       "    </tr>\n",
       "    <tr>\n",
       "      <th rowspan=\"2\" valign=\"top\">Footwear</th>\n",
       "      <th>Men</th>\n",
       "      <td>43.520833</td>\n",
       "    </tr>\n",
       "    <tr>\n",
       "      <th>Women</th>\n",
       "      <td>40.209564</td>\n",
       "    </tr>\n",
       "  </tbody>\n",
       "</table>\n",
       "</div>"
      ],
      "text/plain": [
       "                         Price per Unit\n",
       "Product_category Gender                \n",
       "Apparel          Men          49.870513\n",
       "                 Women        51.126923\n",
       "Footwear         Men          43.520833\n",
       "                 Women        40.209564"
      ]
     },
     "execution_count": 432,
     "metadata": {},
     "output_type": "execute_result"
    }
   ],
   "source": [
    "df.groupby(['Product_category','Gender'])[['Price per Unit']].mean()"
   ]
  },
  {
   "cell_type": "markdown",
   "metadata": {},
   "source": [
    "Average price of each products among each sales method"
   ]
  },
  {
   "cell_type": "code",
   "execution_count": null,
   "metadata": {},
   "outputs": [
    {
     "data": {
      "text/html": [
       "<div>\n",
       "<style scoped>\n",
       "    .dataframe tbody tr th:only-of-type {\n",
       "        vertical-align: middle;\n",
       "    }\n",
       "\n",
       "    .dataframe tbody tr th {\n",
       "        vertical-align: top;\n",
       "    }\n",
       "\n",
       "    .dataframe thead th {\n",
       "        text-align: right;\n",
       "    }\n",
       "</style>\n",
       "<table border=\"1\" class=\"dataframe\">\n",
       "  <thead>\n",
       "    <tr style=\"text-align: right;\">\n",
       "      <th></th>\n",
       "      <th></th>\n",
       "      <th>Price per Unit</th>\n",
       "    </tr>\n",
       "    <tr>\n",
       "      <th>Product</th>\n",
       "      <th>Sales Method</th>\n",
       "      <th></th>\n",
       "    </tr>\n",
       "  </thead>\n",
       "  <tbody>\n",
       "    <tr>\n",
       "      <th rowspan=\"3\" valign=\"top\">Men's Apparel</th>\n",
       "      <th>In-store</th>\n",
       "      <td>54.896907</td>\n",
       "    </tr>\n",
       "    <tr>\n",
       "      <th>Online</th>\n",
       "      <td>51.058228</td>\n",
       "    </tr>\n",
       "    <tr>\n",
       "      <th>Outlet</th>\n",
       "      <td>44.858038</td>\n",
       "    </tr>\n",
       "    <tr>\n",
       "      <th rowspan=\"3\" valign=\"top\">Men's Athletic Footwear</th>\n",
       "      <th>In-store</th>\n",
       "      <td>47.110727</td>\n",
       "    </tr>\n",
       "    <tr>\n",
       "      <th>Online</th>\n",
       "      <td>43.878635</td>\n",
       "    </tr>\n",
       "    <tr>\n",
       "      <th>Outlet</th>\n",
       "      <td>39.916667</td>\n",
       "    </tr>\n",
       "    <tr>\n",
       "      <th rowspan=\"3\" valign=\"top\">Men's Street Footwear</th>\n",
       "      <th>In-store</th>\n",
       "      <td>49.224138</td>\n",
       "    </tr>\n",
       "    <tr>\n",
       "      <th>Online</th>\n",
       "      <td>44.710493</td>\n",
       "    </tr>\n",
       "    <tr>\n",
       "      <th>Outlet</th>\n",
       "      <td>38.958246</td>\n",
       "    </tr>\n",
       "    <tr>\n",
       "      <th rowspan=\"3\" valign=\"top\">Women's Apparel</th>\n",
       "      <th>In-store</th>\n",
       "      <td>55.775862</td>\n",
       "    </tr>\n",
       "    <tr>\n",
       "      <th>Online</th>\n",
       "      <td>52.188369</td>\n",
       "    </tr>\n",
       "    <tr>\n",
       "      <th>Outlet</th>\n",
       "      <td>46.559499</td>\n",
       "    </tr>\n",
       "    <tr>\n",
       "      <th rowspan=\"3\" valign=\"top\">Women's Athletic Footwear</th>\n",
       "      <th>In-store</th>\n",
       "      <td>43.344828</td>\n",
       "    </tr>\n",
       "    <tr>\n",
       "      <th>Online</th>\n",
       "      <td>41.250951</td>\n",
       "    </tr>\n",
       "    <tr>\n",
       "      <th>Outlet</th>\n",
       "      <td>38.100629</td>\n",
       "    </tr>\n",
       "    <tr>\n",
       "      <th rowspan=\"3\" valign=\"top\">Women's Street Footwear</th>\n",
       "      <th>In-store</th>\n",
       "      <td>42.517241</td>\n",
       "    </tr>\n",
       "    <tr>\n",
       "      <th>Online</th>\n",
       "      <td>39.996207</td>\n",
       "    </tr>\n",
       "    <tr>\n",
       "      <th>Outlet</th>\n",
       "      <td>37.651357</td>\n",
       "    </tr>\n",
       "  </tbody>\n",
       "</table>\n",
       "</div>"
      ],
      "text/plain": [
       "                                        Price per Unit\n",
       "Product                   Sales Method                \n",
       "Men's Apparel             In-store           54.896907\n",
       "                          Online             51.058228\n",
       "                          Outlet             44.858038\n",
       "Men's Athletic Footwear   In-store           47.110727\n",
       "                          Online             43.878635\n",
       "                          Outlet             39.916667\n",
       "Men's Street Footwear     In-store           49.224138\n",
       "                          Online             44.710493\n",
       "                          Outlet             38.958246\n",
       "Women's Apparel           In-store           55.775862\n",
       "                          Online             52.188369\n",
       "                          Outlet             46.559499\n",
       "Women's Athletic Footwear In-store           43.344828\n",
       "                          Online             41.250951\n",
       "                          Outlet             38.100629\n",
       "Women's Street Footwear   In-store           42.517241\n",
       "                          Online             39.996207\n",
       "                          Outlet             37.651357"
      ]
     },
     "execution_count": 463,
     "metadata": {},
     "output_type": "execute_result"
    }
   ],
   "source": [
    "df.groupby(['Product','Sales Method'])[['Price per Unit']].mean().sort_values(\n",
    "                                                                              ['Product','Price per Unit'],\n",
    "                                                                              ascending=[True,False])"
   ]
  },
  {
   "cell_type": "markdown",
   "metadata": {},
   "source": [
    "Total sales of each Retailers among each regions"
   ]
  },
  {
   "cell_type": "code",
   "execution_count": null,
   "metadata": {},
   "outputs": [
    {
     "data": {
      "text/html": [
       "<div>\n",
       "<style scoped>\n",
       "    .dataframe tbody tr th:only-of-type {\n",
       "        vertical-align: middle;\n",
       "    }\n",
       "\n",
       "    .dataframe tbody tr th {\n",
       "        vertical-align: top;\n",
       "    }\n",
       "\n",
       "    .dataframe thead th {\n",
       "        text-align: right;\n",
       "    }\n",
       "</style>\n",
       "<table border=\"1\" class=\"dataframe\">\n",
       "  <thead>\n",
       "    <tr style=\"text-align: right;\">\n",
       "      <th></th>\n",
       "      <th></th>\n",
       "      <th>Total Sales</th>\n",
       "    </tr>\n",
       "    <tr>\n",
       "      <th>Retailer</th>\n",
       "      <th>Region</th>\n",
       "      <th></th>\n",
       "    </tr>\n",
       "  </thead>\n",
       "  <tbody>\n",
       "    <tr>\n",
       "      <th rowspan=\"4\" valign=\"top\">Amazon</th>\n",
       "      <th>Northeast</th>\n",
       "      <td>362664</td>\n",
       "    </tr>\n",
       "    <tr>\n",
       "      <th>Midwest</th>\n",
       "      <td>168370</td>\n",
       "    </tr>\n",
       "    <tr>\n",
       "      <th>Southeast</th>\n",
       "      <td>108273</td>\n",
       "    </tr>\n",
       "    <tr>\n",
       "      <th>South</th>\n",
       "      <td>4092</td>\n",
       "    </tr>\n",
       "    <tr>\n",
       "      <th rowspan=\"5\" valign=\"top\">Foot Locker</th>\n",
       "      <th>Northeast</th>\n",
       "      <td>653330</td>\n",
       "    </tr>\n",
       "    <tr>\n",
       "      <th>Southeast</th>\n",
       "      <td>596707</td>\n",
       "    </tr>\n",
       "    <tr>\n",
       "      <th>Midwest</th>\n",
       "      <td>479932</td>\n",
       "    </tr>\n",
       "    <tr>\n",
       "      <th>West</th>\n",
       "      <td>244260</td>\n",
       "    </tr>\n",
       "    <tr>\n",
       "      <th>South</th>\n",
       "      <td>93081</td>\n",
       "    </tr>\n",
       "    <tr>\n",
       "      <th rowspan=\"4\" valign=\"top\">Kohl's</th>\n",
       "      <th>West</th>\n",
       "      <td>623057</td>\n",
       "    </tr>\n",
       "    <tr>\n",
       "      <th>Midwest</th>\n",
       "      <td>222315</td>\n",
       "    </tr>\n",
       "    <tr>\n",
       "      <th>Northeast</th>\n",
       "      <td>140329</td>\n",
       "    </tr>\n",
       "    <tr>\n",
       "      <th>South</th>\n",
       "      <td>35525</td>\n",
       "    </tr>\n",
       "    <tr>\n",
       "      <th rowspan=\"5\" valign=\"top\">Sports Direct</th>\n",
       "      <th>South</th>\n",
       "      <td>652618</td>\n",
       "    </tr>\n",
       "    <tr>\n",
       "      <th>Southeast</th>\n",
       "      <td>541817</td>\n",
       "    </tr>\n",
       "    <tr>\n",
       "      <th>Midwest</th>\n",
       "      <td>262095</td>\n",
       "    </tr>\n",
       "    <tr>\n",
       "      <th>Northeast</th>\n",
       "      <td>247010</td>\n",
       "    </tr>\n",
       "    <tr>\n",
       "      <th>West</th>\n",
       "      <td>86305</td>\n",
       "    </tr>\n",
       "    <tr>\n",
       "      <th rowspan=\"3\" valign=\"top\">Walmart</th>\n",
       "      <th>South</th>\n",
       "      <td>330513</td>\n",
       "    </tr>\n",
       "    <tr>\n",
       "      <th>Southeast</th>\n",
       "      <td>210066</td>\n",
       "    </tr>\n",
       "    <tr>\n",
       "      <th>Northeast</th>\n",
       "      <td>137123</td>\n",
       "    </tr>\n",
       "    <tr>\n",
       "      <th rowspan=\"5\" valign=\"top\">West Gear</th>\n",
       "      <th>West</th>\n",
       "      <td>1375571</td>\n",
       "    </tr>\n",
       "    <tr>\n",
       "      <th>South</th>\n",
       "      <td>330893</td>\n",
       "    </tr>\n",
       "    <tr>\n",
       "      <th>Northeast</th>\n",
       "      <td>322973</td>\n",
       "    </tr>\n",
       "    <tr>\n",
       "      <th>Midwest</th>\n",
       "      <td>225433</td>\n",
       "    </tr>\n",
       "    <tr>\n",
       "      <th>Southeast</th>\n",
       "      <td>174923</td>\n",
       "    </tr>\n",
       "  </tbody>\n",
       "</table>\n",
       "</div>"
      ],
      "text/plain": [
       "                         Total Sales\n",
       "Retailer      Region                \n",
       "Amazon        Northeast       362664\n",
       "              Midwest         168370\n",
       "              Southeast       108273\n",
       "              South             4092\n",
       "Foot Locker   Northeast       653330\n",
       "              Southeast       596707\n",
       "              Midwest         479932\n",
       "              West            244260\n",
       "              South            93081\n",
       "Kohl's        West            623057\n",
       "              Midwest         222315\n",
       "              Northeast       140329\n",
       "              South            35525\n",
       "Sports Direct South           652618\n",
       "              Southeast       541817\n",
       "              Midwest         262095\n",
       "              Northeast       247010\n",
       "              West             86305\n",
       "Walmart       South           330513\n",
       "              Southeast       210066\n",
       "              Northeast       137123\n",
       "West Gear     West           1375571\n",
       "              South           330893\n",
       "              Northeast       322973\n",
       "              Midwest         225433\n",
       "              Southeast       174923"
      ]
     },
     "execution_count": 454,
     "metadata": {},
     "output_type": "execute_result"
    }
   ],
   "source": [
    "df.groupby(['Retailer','Region'])[['Total Sales']].sum().sort_values(by=['Retailer','Total Sales'],ascending=[True,False])"
   ]
  },
  {
   "cell_type": "markdown",
   "metadata": {},
   "source": [
    "Multivariate "
   ]
  },
  {
   "cell_type": "markdown",
   "metadata": {},
   "source": [
    "Average price per unit of each products among each retailers with different sales method"
   ]
  },
  {
   "cell_type": "code",
   "execution_count": null,
   "metadata": {},
   "outputs": [
    {
     "data": {
      "text/html": [
       "<div>\n",
       "<style scoped>\n",
       "    .dataframe tbody tr th:only-of-type {\n",
       "        vertical-align: middle;\n",
       "    }\n",
       "\n",
       "    .dataframe tbody tr th {\n",
       "        vertical-align: top;\n",
       "    }\n",
       "\n",
       "    .dataframe thead th {\n",
       "        text-align: right;\n",
       "    }\n",
       "</style>\n",
       "<table border=\"1\" class=\"dataframe\">\n",
       "  <thead>\n",
       "    <tr style=\"text-align: right;\">\n",
       "      <th></th>\n",
       "      <th></th>\n",
       "      <th></th>\n",
       "      <th>Price per Unit</th>\n",
       "    </tr>\n",
       "    <tr>\n",
       "      <th>Product</th>\n",
       "      <th>Retailer</th>\n",
       "      <th>Sales Method</th>\n",
       "      <th></th>\n",
       "    </tr>\n",
       "  </thead>\n",
       "  <tbody>\n",
       "    <tr>\n",
       "      <th rowspan=\"5\" valign=\"top\">Men's Apparel</th>\n",
       "      <th rowspan=\"3\" valign=\"top\">Amazon</th>\n",
       "      <th>In-store</th>\n",
       "      <td>61.500000</td>\n",
       "    </tr>\n",
       "    <tr>\n",
       "      <th>Online</th>\n",
       "      <td>53.088608</td>\n",
       "    </tr>\n",
       "    <tr>\n",
       "      <th>Outlet</th>\n",
       "      <td>50.000000</td>\n",
       "    </tr>\n",
       "    <tr>\n",
       "      <th rowspan=\"2\" valign=\"top\">Foot Locker</th>\n",
       "      <th>In-store</th>\n",
       "      <td>51.710526</td>\n",
       "    </tr>\n",
       "    <tr>\n",
       "      <th>Online</th>\n",
       "      <td>50.982063</td>\n",
       "    </tr>\n",
       "    <tr>\n",
       "      <th>...</th>\n",
       "      <th>...</th>\n",
       "      <th>...</th>\n",
       "      <td>...</td>\n",
       "    </tr>\n",
       "    <tr>\n",
       "      <th rowspan=\"5\" valign=\"top\">Women's Street Footwear</th>\n",
       "      <th rowspan=\"2\" valign=\"top\">Walmart</th>\n",
       "      <th>Online</th>\n",
       "      <td>40.720930</td>\n",
       "    </tr>\n",
       "    <tr>\n",
       "      <th>Outlet</th>\n",
       "      <td>39.136364</td>\n",
       "    </tr>\n",
       "    <tr>\n",
       "      <th rowspan=\"3\" valign=\"top\">West Gear</th>\n",
       "      <th>In-store</th>\n",
       "      <td>44.579832</td>\n",
       "    </tr>\n",
       "    <tr>\n",
       "      <th>Online</th>\n",
       "      <td>42.663043</td>\n",
       "    </tr>\n",
       "    <tr>\n",
       "      <th>Outlet</th>\n",
       "      <td>39.072165</td>\n",
       "    </tr>\n",
       "  </tbody>\n",
       "</table>\n",
       "<p>108 rows × 1 columns</p>\n",
       "</div>"
      ],
      "text/plain": [
       "                                                  Price per Unit\n",
       "Product                 Retailer    Sales Method                \n",
       "Men's Apparel           Amazon      In-store           61.500000\n",
       "                                    Online             53.088608\n",
       "                                    Outlet             50.000000\n",
       "                        Foot Locker In-store           51.710526\n",
       "                                    Online             50.982063\n",
       "...                                                          ...\n",
       "Women's Street Footwear Walmart     Online             40.720930\n",
       "                                    Outlet             39.136364\n",
       "                        West Gear   In-store           44.579832\n",
       "                                    Online             42.663043\n",
       "                                    Outlet             39.072165\n",
       "\n",
       "[108 rows x 1 columns]"
      ]
     },
     "execution_count": 453,
     "metadata": {},
     "output_type": "execute_result"
    }
   ],
   "source": [
    "df.groupby(['Product','Retailer','Sales Method'])[['Price per Unit']].mean()\n"
   ]
  },
  {
   "cell_type": "markdown",
   "metadata": {},
   "source": [
    "Total sales per product, region, and retailer"
   ]
  },
  {
   "cell_type": "code",
   "execution_count": null,
   "metadata": {},
   "outputs": [
    {
     "data": {
      "text/html": [
       "<div>\n",
       "<style scoped>\n",
       "    .dataframe tbody tr th:only-of-type {\n",
       "        vertical-align: middle;\n",
       "    }\n",
       "\n",
       "    .dataframe tbody tr th {\n",
       "        vertical-align: top;\n",
       "    }\n",
       "\n",
       "    .dataframe thead th {\n",
       "        text-align: right;\n",
       "    }\n",
       "</style>\n",
       "<table border=\"1\" class=\"dataframe\">\n",
       "  <thead>\n",
       "    <tr style=\"text-align: right;\">\n",
       "      <th></th>\n",
       "      <th></th>\n",
       "      <th></th>\n",
       "      <th>Total Sales</th>\n",
       "    </tr>\n",
       "    <tr>\n",
       "      <th>Product</th>\n",
       "      <th>Region</th>\n",
       "      <th>Retailer</th>\n",
       "      <th></th>\n",
       "    </tr>\n",
       "  </thead>\n",
       "  <tbody>\n",
       "    <tr>\n",
       "      <th rowspan=\"5\" valign=\"top\">Men's Apparel</th>\n",
       "      <th rowspan=\"5\" valign=\"top\">Midwest</th>\n",
       "      <th>Amazon</th>\n",
       "      <td>25672</td>\n",
       "    </tr>\n",
       "    <tr>\n",
       "      <th>Foot Locker</th>\n",
       "      <td>60947</td>\n",
       "    </tr>\n",
       "    <tr>\n",
       "      <th>Kohl's</th>\n",
       "      <td>29215</td>\n",
       "    </tr>\n",
       "    <tr>\n",
       "      <th>Sports Direct</th>\n",
       "      <td>33914</td>\n",
       "    </tr>\n",
       "    <tr>\n",
       "      <th>West Gear</th>\n",
       "      <td>31532</td>\n",
       "    </tr>\n",
       "    <tr>\n",
       "      <th>...</th>\n",
       "      <th>...</th>\n",
       "      <th>...</th>\n",
       "      <td>...</td>\n",
       "    </tr>\n",
       "    <tr>\n",
       "      <th rowspan=\"5\" valign=\"top\">Women's Street Footwear</th>\n",
       "      <th>Southeast</th>\n",
       "      <th>West Gear</th>\n",
       "      <td>29497</td>\n",
       "    </tr>\n",
       "    <tr>\n",
       "      <th rowspan=\"4\" valign=\"top\">West</th>\n",
       "      <th>Foot Locker</th>\n",
       "      <td>42952</td>\n",
       "    </tr>\n",
       "    <tr>\n",
       "      <th>Kohl's</th>\n",
       "      <td>92463</td>\n",
       "    </tr>\n",
       "    <tr>\n",
       "      <th>Sports Direct</th>\n",
       "      <td>17194</td>\n",
       "    </tr>\n",
       "    <tr>\n",
       "      <th>West Gear</th>\n",
       "      <td>217221</td>\n",
       "    </tr>\n",
       "  </tbody>\n",
       "</table>\n",
       "<p>154 rows × 1 columns</p>\n",
       "</div>"
      ],
      "text/plain": [
       "                                                 Total Sales\n",
       "Product                 Region    Retailer                  \n",
       "Men's Apparel           Midwest   Amazon               25672\n",
       "                                  Foot Locker          60947\n",
       "                                  Kohl's               29215\n",
       "                                  Sports Direct        33914\n",
       "                                  West Gear            31532\n",
       "...                                                      ...\n",
       "Women's Street Footwear Southeast West Gear            29497\n",
       "                        West      Foot Locker          42952\n",
       "                                  Kohl's               92463\n",
       "                                  Sports Direct        17194\n",
       "                                  West Gear           217221\n",
       "\n",
       "[154 rows x 1 columns]"
      ]
     },
     "execution_count": 452,
     "metadata": {},
     "output_type": "execute_result"
    }
   ],
   "source": [
    "df.groupby(['Product', 'Region', 'Retailer'])[['Total Sales']].sum()\n"
   ]
  },
  {
   "cell_type": "markdown",
   "metadata": {},
   "source": [
    "Average price generated per state, sales method, and sales method"
   ]
  },
  {
   "cell_type": "code",
   "execution_count": null,
   "metadata": {},
   "outputs": [
    {
     "data": {
      "text/html": [
       "<div>\n",
       "<style scoped>\n",
       "    .dataframe tbody tr th:only-of-type {\n",
       "        vertical-align: middle;\n",
       "    }\n",
       "\n",
       "    .dataframe tbody tr th {\n",
       "        vertical-align: top;\n",
       "    }\n",
       "\n",
       "    .dataframe thead th {\n",
       "        text-align: right;\n",
       "    }\n",
       "</style>\n",
       "<table border=\"1\" class=\"dataframe\">\n",
       "  <thead>\n",
       "    <tr style=\"text-align: right;\">\n",
       "      <th></th>\n",
       "      <th></th>\n",
       "      <th></th>\n",
       "      <th>Price per Unit</th>\n",
       "    </tr>\n",
       "    <tr>\n",
       "      <th>State</th>\n",
       "      <th>Retailer</th>\n",
       "      <th>Sales Method</th>\n",
       "      <th></th>\n",
       "    </tr>\n",
       "  </thead>\n",
       "  <tbody>\n",
       "    <tr>\n",
       "      <th rowspan=\"4\" valign=\"top\">Alabama</th>\n",
       "      <th rowspan=\"2\" valign=\"top\">Amazon</th>\n",
       "      <th>Online</th>\n",
       "      <td>34.500000</td>\n",
       "    </tr>\n",
       "    <tr>\n",
       "      <th>Outlet</th>\n",
       "      <td>31.250000</td>\n",
       "    </tr>\n",
       "    <tr>\n",
       "      <th rowspan=\"2\" valign=\"top\">Sports Direct</th>\n",
       "      <th>Online</th>\n",
       "      <td>39.220588</td>\n",
       "    </tr>\n",
       "    <tr>\n",
       "      <th>Outlet</th>\n",
       "      <td>35.801471</td>\n",
       "    </tr>\n",
       "    <tr>\n",
       "      <th>Arizona</th>\n",
       "      <th>Foot Locker</th>\n",
       "      <th>Online</th>\n",
       "      <td>51.288136</td>\n",
       "    </tr>\n",
       "    <tr>\n",
       "      <th>...</th>\n",
       "      <th>...</th>\n",
       "      <th>...</th>\n",
       "      <td>...</td>\n",
       "    </tr>\n",
       "    <tr>\n",
       "      <th>Wisconsin</th>\n",
       "      <th>West Gear</th>\n",
       "      <th>Online</th>\n",
       "      <td>35.986111</td>\n",
       "    </tr>\n",
       "    <tr>\n",
       "      <th rowspan=\"4\" valign=\"top\">Wyoming</th>\n",
       "      <th rowspan=\"2\" valign=\"top\">Foot Locker</th>\n",
       "      <th>In-store</th>\n",
       "      <td>42.307692</td>\n",
       "    </tr>\n",
       "    <tr>\n",
       "      <th>Online</th>\n",
       "      <td>40.153846</td>\n",
       "    </tr>\n",
       "    <tr>\n",
       "      <th rowspan=\"2\" valign=\"top\">Kohl's</th>\n",
       "      <th>In-store</th>\n",
       "      <td>45.847458</td>\n",
       "    </tr>\n",
       "    <tr>\n",
       "      <th>Online</th>\n",
       "      <td>43.220339</td>\n",
       "    </tr>\n",
       "  </tbody>\n",
       "</table>\n",
       "<p>210 rows × 1 columns</p>\n",
       "</div>"
      ],
      "text/plain": [
       "                                      Price per Unit\n",
       "State     Retailer      Sales Method                \n",
       "Alabama   Amazon        Online             34.500000\n",
       "                        Outlet             31.250000\n",
       "          Sports Direct Online             39.220588\n",
       "                        Outlet             35.801471\n",
       "Arizona   Foot Locker   Online             51.288136\n",
       "...                                              ...\n",
       "Wisconsin West Gear     Online             35.986111\n",
       "Wyoming   Foot Locker   In-store           42.307692\n",
       "                        Online             40.153846\n",
       "          Kohl's        In-store           45.847458\n",
       "                        Online             43.220339\n",
       "\n",
       "[210 rows x 1 columns]"
      ]
     },
     "execution_count": 460,
     "metadata": {},
     "output_type": "execute_result"
    }
   ],
   "source": [
    "df.groupby(['State', 'Retailer', 'Sales Method'])[['Price per Unit']].mean()\n"
   ]
  },
  {
   "cell_type": "code",
   "execution_count": 214,
   "metadata": {},
   "outputs": [
    {
     "data": {
      "text/plain": [
       "([0, 1, 2, 3, 4, 5, 6, 7, 8, 9, 10, 11],\n",
       " [Text(0, 0, 'January'),\n",
       "  Text(1, 0, 'February'),\n",
       "  Text(2, 0, 'March'),\n",
       "  Text(3, 0, 'April'),\n",
       "  Text(4, 0, 'May'),\n",
       "  Text(5, 0, 'July'),\n",
       "  Text(6, 0, 'August'),\n",
       "  Text(7, 0, 'September'),\n",
       "  Text(8, 0, 'October'),\n",
       "  Text(9, 0, 'November'),\n",
       "  Text(10, 0, 'December'),\n",
       "  Text(11, 0, 'June')])"
      ]
     },
     "execution_count": 214,
     "metadata": {},
     "output_type": "execute_result"
    },
    {
     "data": {
      "image/png": "[encoded data removed]",
      "text/plain": [
       "<Figure size 640x480 with 1 Axes>"
      ]
     },
     "metadata": {},
     "output_type": "display_data"
    }
   ],
   "source": [
    "sns.countplot(x=df['Month Name'],hue=df['Retailer'])\n",
    "plt.xticks(rotation=90)"
   ]
  },
  {
   "cell_type": "code",
   "execution_count": 203,
   "metadata": {},
   "outputs": [
    {
     "data": {
      "text/html": [
       "<div>\n",
       "<style scoped>\n",
       "    .dataframe tbody tr th:only-of-type {\n",
       "        vertical-align: middle;\n",
       "    }\n",
       "\n",
       "    .dataframe tbody tr th {\n",
       "        vertical-align: top;\n",
       "    }\n",
       "\n",
       "    .dataframe thead th {\n",
       "        text-align: right;\n",
       "    }\n",
       "</style>\n",
       "<table border=\"1\" class=\"dataframe\">\n",
       "  <thead>\n",
       "    <tr style=\"text-align: right;\">\n",
       "      <th></th>\n",
       "      <th>Invoice Date</th>\n",
       "      <th>Month</th>\n",
       "      <th>Day Name</th>\n",
       "      <th>Year</th>\n",
       "      <th>Product</th>\n",
       "      <th>Product_category</th>\n",
       "      <th>Gender</th>\n",
       "      <th>Region</th>\n",
       "      <th>Retailer</th>\n",
       "      <th>Sales Method</th>\n",
       "      <th>State</th>\n",
       "      <th>Price per Unit</th>\n",
       "      <th>Price in Indian Ruppees</th>\n",
       "      <th>Total Sales</th>\n",
       "      <th>Total Amount</th>\n",
       "      <th>Price_category</th>\n",
       "      <th>Month Name</th>\n",
       "    </tr>\n",
       "  </thead>\n",
       "  <tbody>\n",
       "    <tr>\n",
       "      <th>0</th>\n",
       "      <td>2020-01-01</td>\n",
       "      <td>1</td>\n",
       "      <td>Wednesday</td>\n",
       "      <td>2020</td>\n",
       "      <td>Men's Street Footwear</td>\n",
       "      <td>Footwear</td>\n",
       "      <td>Men</td>\n",
       "      <td>Northeast</td>\n",
       "      <td>Foot Locker</td>\n",
       "      <td>In-store</td>\n",
       "      <td>New York</td>\n",
       "      <td>50</td>\n",
       "      <td>4367.00</td>\n",
       "      <td>6000</td>\n",
       "      <td>300000</td>\n",
       "      <td>Mid-range</td>\n",
       "      <td>January</td>\n",
       "    </tr>\n",
       "    <tr>\n",
       "      <th>1</th>\n",
       "      <td>2020-01-02</td>\n",
       "      <td>1</td>\n",
       "      <td>Thursday</td>\n",
       "      <td>2020</td>\n",
       "      <td>Men's Athletic Footwear</td>\n",
       "      <td>Footwear</td>\n",
       "      <td>Men</td>\n",
       "      <td>Northeast</td>\n",
       "      <td>Foot Locker</td>\n",
       "      <td>In-store</td>\n",
       "      <td>New York</td>\n",
       "      <td>50</td>\n",
       "      <td>4367.00</td>\n",
       "      <td>5000</td>\n",
       "      <td>250000</td>\n",
       "      <td>Mid-range</td>\n",
       "      <td>January</td>\n",
       "    </tr>\n",
       "    <tr>\n",
       "      <th>2</th>\n",
       "      <td>2020-01-03</td>\n",
       "      <td>1</td>\n",
       "      <td>Friday</td>\n",
       "      <td>2020</td>\n",
       "      <td>Women's Street Footwear</td>\n",
       "      <td>Footwear</td>\n",
       "      <td>Women</td>\n",
       "      <td>Northeast</td>\n",
       "      <td>Foot Locker</td>\n",
       "      <td>In-store</td>\n",
       "      <td>New York</td>\n",
       "      <td>40</td>\n",
       "      <td>3493.60</td>\n",
       "      <td>4000</td>\n",
       "      <td>160000</td>\n",
       "      <td>Mid-range</td>\n",
       "      <td>January</td>\n",
       "    </tr>\n",
       "    <tr>\n",
       "      <th>3</th>\n",
       "      <td>2020-01-04</td>\n",
       "      <td>1</td>\n",
       "      <td>Saturday</td>\n",
       "      <td>2020</td>\n",
       "      <td>Women's Athletic Footwear</td>\n",
       "      <td>Footwear</td>\n",
       "      <td>Women</td>\n",
       "      <td>Northeast</td>\n",
       "      <td>Foot Locker</td>\n",
       "      <td>In-store</td>\n",
       "      <td>New York</td>\n",
       "      <td>45</td>\n",
       "      <td>3930.30</td>\n",
       "      <td>3825</td>\n",
       "      <td>172125</td>\n",
       "      <td>Mid-range</td>\n",
       "      <td>January</td>\n",
       "    </tr>\n",
       "    <tr>\n",
       "      <th>4</th>\n",
       "      <td>2020-01-05</td>\n",
       "      <td>1</td>\n",
       "      <td>Sunday</td>\n",
       "      <td>2020</td>\n",
       "      <td>Men's Apparel</td>\n",
       "      <td>Apparel</td>\n",
       "      <td>Men</td>\n",
       "      <td>Northeast</td>\n",
       "      <td>Foot Locker</td>\n",
       "      <td>In-store</td>\n",
       "      <td>New York</td>\n",
       "      <td>60</td>\n",
       "      <td>5240.40</td>\n",
       "      <td>5400</td>\n",
       "      <td>324000</td>\n",
       "      <td>Mid-range</td>\n",
       "      <td>January</td>\n",
       "    </tr>\n",
       "    <tr>\n",
       "      <th>...</th>\n",
       "      <td>...</td>\n",
       "      <td>...</td>\n",
       "      <td>...</td>\n",
       "      <td>...</td>\n",
       "      <td>...</td>\n",
       "      <td>...</td>\n",
       "      <td>...</td>\n",
       "      <td>...</td>\n",
       "      <td>...</td>\n",
       "      <td>...</td>\n",
       "      <td>...</td>\n",
       "      <td>...</td>\n",
       "      <td>...</td>\n",
       "      <td>...</td>\n",
       "      <td>...</td>\n",
       "      <td>...</td>\n",
       "      <td>...</td>\n",
       "    </tr>\n",
       "    <tr>\n",
       "      <th>9355</th>\n",
       "      <td>2021-07-06</td>\n",
       "      <td>7</td>\n",
       "      <td>Tuesday</td>\n",
       "      <td>2021</td>\n",
       "      <td>Women's Athletic Footwear</td>\n",
       "      <td>Footwear</td>\n",
       "      <td>Women</td>\n",
       "      <td>West</td>\n",
       "      <td>West Gear</td>\n",
       "      <td>Outlet</td>\n",
       "      <td>Idaho</td>\n",
       "      <td>38</td>\n",
       "      <td>3318.92</td>\n",
       "      <td>60</td>\n",
       "      <td>2280</td>\n",
       "      <td>Mid-range</td>\n",
       "      <td>July</td>\n",
       "    </tr>\n",
       "    <tr>\n",
       "      <th>9356</th>\n",
       "      <td>2021-04-05</td>\n",
       "      <td>4</td>\n",
       "      <td>Monday</td>\n",
       "      <td>2021</td>\n",
       "      <td>Women's Street Footwear</td>\n",
       "      <td>Footwear</td>\n",
       "      <td>Women</td>\n",
       "      <td>West</td>\n",
       "      <td>West Gear</td>\n",
       "      <td>Outlet</td>\n",
       "      <td>Idaho</td>\n",
       "      <td>19</td>\n",
       "      <td>1659.46</td>\n",
       "      <td>31</td>\n",
       "      <td>589</td>\n",
       "      <td>Affordable</td>\n",
       "      <td>April</td>\n",
       "    </tr>\n",
       "    <tr>\n",
       "      <th>9357</th>\n",
       "      <td>2021-05-05</td>\n",
       "      <td>5</td>\n",
       "      <td>Wednesday</td>\n",
       "      <td>2021</td>\n",
       "      <td>Women's Street Footwear</td>\n",
       "      <td>Footwear</td>\n",
       "      <td>Women</td>\n",
       "      <td>West</td>\n",
       "      <td>West Gear</td>\n",
       "      <td>Outlet</td>\n",
       "      <td>Idaho</td>\n",
       "      <td>18</td>\n",
       "      <td>1572.12</td>\n",
       "      <td>33</td>\n",
       "      <td>594</td>\n",
       "      <td>Affordable</td>\n",
       "      <td>May</td>\n",
       "    </tr>\n",
       "    <tr>\n",
       "      <th>9358</th>\n",
       "      <td>2021-06-04</td>\n",
       "      <td>6</td>\n",
       "      <td>Friday</td>\n",
       "      <td>2021</td>\n",
       "      <td>Women's Street Footwear</td>\n",
       "      <td>Footwear</td>\n",
       "      <td>Women</td>\n",
       "      <td>West</td>\n",
       "      <td>West Gear</td>\n",
       "      <td>Outlet</td>\n",
       "      <td>Idaho</td>\n",
       "      <td>34</td>\n",
       "      <td>2969.56</td>\n",
       "      <td>63</td>\n",
       "      <td>2142</td>\n",
       "      <td>Affordable</td>\n",
       "      <td>June</td>\n",
       "    </tr>\n",
       "    <tr>\n",
       "      <th>9359</th>\n",
       "      <td>2021-07-06</td>\n",
       "      <td>7</td>\n",
       "      <td>Tuesday</td>\n",
       "      <td>2021</td>\n",
       "      <td>Women's Street Footwear</td>\n",
       "      <td>Footwear</td>\n",
       "      <td>Women</td>\n",
       "      <td>West</td>\n",
       "      <td>West Gear</td>\n",
       "      <td>Outlet</td>\n",
       "      <td>Idaho</td>\n",
       "      <td>34</td>\n",
       "      <td>2969.56</td>\n",
       "      <td>95</td>\n",
       "      <td>3230</td>\n",
       "      <td>Affordable</td>\n",
       "      <td>July</td>\n",
       "    </tr>\n",
       "  </tbody>\n",
       "</table>\n",
       "<p>9356 rows × 17 columns</p>\n",
       "</div>"
      ],
      "text/plain": [
       "     Invoice Date  Month   Day Name  Year                    Product  \\\n",
       "0      2020-01-01      1  Wednesday  2020      Men's Street Footwear   \n",
       "1      2020-01-02      1   Thursday  2020    Men's Athletic Footwear   \n",
       "2      2020-01-03      1     Friday  2020    Women's Street Footwear   \n",
       "3      2020-01-04      1   Saturday  2020  Women's Athletic Footwear   \n",
       "4      2020-01-05      1     Sunday  2020              Men's Apparel   \n",
       "...           ...    ...        ...   ...                        ...   \n",
       "9355   2021-07-06      7    Tuesday  2021  Women's Athletic Footwear   \n",
       "9356   2021-04-05      4     Monday  2021    Women's Street Footwear   \n",
       "9357   2021-05-05      5  Wednesday  2021    Women's Street Footwear   \n",
       "9358   2021-06-04      6     Friday  2021    Women's Street Footwear   \n",
       "9359   2021-07-06      7    Tuesday  2021    Women's Street Footwear   \n",
       "\n",
       "     Product_category Gender     Region     Retailer Sales Method     State  \\\n",
       "0            Footwear    Men  Northeast  Foot Locker     In-store  New York   \n",
       "1            Footwear    Men  Northeast  Foot Locker     In-store  New York   \n",
       "2            Footwear  Women  Northeast  Foot Locker     In-store  New York   \n",
       "3            Footwear  Women  Northeast  Foot Locker     In-store  New York   \n",
       "4             Apparel    Men  Northeast  Foot Locker     In-store  New York   \n",
       "...               ...    ...        ...          ...          ...       ...   \n",
       "9355         Footwear  Women       West    West Gear       Outlet     Idaho   \n",
       "9356         Footwear  Women       West    West Gear       Outlet     Idaho   \n",
       "9357         Footwear  Women       West    West Gear       Outlet     Idaho   \n",
       "9358         Footwear  Women       West    West Gear       Outlet     Idaho   \n",
       "9359         Footwear  Women       West    West Gear       Outlet     Idaho   \n",
       "\n",
       "      Price per Unit  Price in Indian Ruppees  Total Sales  Total Amount  \\\n",
       "0                 50                  4367.00         6000        300000   \n",
       "1                 50                  4367.00         5000        250000   \n",
       "2                 40                  3493.60         4000        160000   \n",
       "3                 45                  3930.30         3825        172125   \n",
       "4                 60                  5240.40         5400        324000   \n",
       "...              ...                      ...          ...           ...   \n",
       "9355              38                  3318.92           60          2280   \n",
       "9356              19                  1659.46           31           589   \n",
       "9357              18                  1572.12           33           594   \n",
       "9358              34                  2969.56           63          2142   \n",
       "9359              34                  2969.56           95          3230   \n",
       "\n",
       "     Price_category Month Name  \n",
       "0         Mid-range    January  \n",
       "1         Mid-range    January  \n",
       "2         Mid-range    January  \n",
       "3         Mid-range    January  \n",
       "4         Mid-range    January  \n",
       "...             ...        ...  \n",
       "9355      Mid-range       July  \n",
       "9356     Affordable      April  \n",
       "9357     Affordable        May  \n",
       "9358     Affordable       June  \n",
       "9359     Affordable       July  \n",
       "\n",
       "[9356 rows x 17 columns]"
      ]
     },
     "execution_count": 203,
     "metadata": {},
     "output_type": "execute_result"
    }
   ],
   "source": [
    "df"
   ]
  }
 ],
 "metadata": {
  "kernelspec": {
   "display_name": "Python 3",
   "language": "python",
   "name": "python3"
  },
  "language_info": {
   "codemirror_mode": {
    "name": "ipython",
    "version": 3
   },
   "file_extension": ".py",
   "mimetype": "text/x-python",
   "name": "python",
   "nbconvert_exporter": "python",
   "pygments_lexer": "ipython3",
   "version": "3.12.1"
  }
 },
 "nbformat": 4,
 "nbformat_minor": 2
}
